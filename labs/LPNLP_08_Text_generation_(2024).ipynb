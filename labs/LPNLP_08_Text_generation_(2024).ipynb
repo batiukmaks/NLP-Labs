{
  "cells": [
    {
      "cell_type": "markdown",
      "metadata": {
        "id": "view-in-github",
        "colab_type": "text"
      },
      "source": [
        "<a href=\"https://colab.research.google.com/github/batiukmaks/NLP-Labs/blob/main/labs/LPNLP_08_Text_generation_(2024).ipynb\" target=\"_parent\"><img src=\"https://colab.research.google.com/assets/colab-badge.svg\" alt=\"Open In Colab\"/></a>"
      ]
    },
    {
      "cell_type": "markdown",
      "metadata": {
        "id": "c-tiVIhwDZgF"
      },
      "source": [
        "# Генерація тексту\n",
        "\n",
        "У цій роботі ми використаємо мовну модель для генерації тексту.\n",
        "\n",
        "У класичної мовної моделі є два взаємопов'язані визначення:\n",
        "\n",
        "1. Оцінити ймовірність вхідного тексту.\n",
        "2. Видати ймовірнісний розподіл наступного слова для даного префіксу.\n",
        "\n",
        "Для генерації тексту нам ідеально підходить друге визначення."
      ]
    },
    {
      "cell_type": "markdown",
      "metadata": {
        "id": "n5cdtYXg9ARX"
      },
      "source": [
        "## Початок роботи\n",
        "\n",
        "Будь ласка, заповніть поля `EMAIL`, `NAME` та `GROUP` нижче:"
      ]
    },
    {
      "cell_type": "code",
      "source": [
        "!pip install --quiet --ignore-installed http://nlp.band/static/pypy/lpnlp-2023.10.2-py3-none-any.whl"
      ],
      "metadata": {
        "id": "sEbiQ-LYNANN",
        "outputId": "885519d6-b641-41f1-d453-5cd9276d22eb",
        "colab": {
          "base_uri": "https://localhost:8080/"
        }
      },
      "execution_count": 1,
      "outputs": [
        {
          "output_type": "stream",
          "name": "stdout",
          "text": [
            "\u001b[?25l   \u001b[90m━━━━━━━━━━━━━━━━━━━━━━━━━━━━━━━━━━━━━━━━\u001b[0m \u001b[32m0.0/64.9 kB\u001b[0m \u001b[31m?\u001b[0m eta \u001b[36m-:--:--\u001b[0m\r\u001b[2K   \u001b[90m━━━━━━━━━━━━━━━━━━━━━━━━━━━━━━━━━━━━━━━━\u001b[0m \u001b[32m64.9/64.9 kB\u001b[0m \u001b[31m2.3 MB/s\u001b[0m eta \u001b[36m0:00:00\u001b[0m\n",
            "\u001b[2K   \u001b[90m━━━━━━━━━━━━━━━━━━━━━━━━━━━━━━━━━━━━━━━━\u001b[0m \u001b[32m167.3/167.3 kB\u001b[0m \u001b[31m6.1 MB/s\u001b[0m eta \u001b[36m0:00:00\u001b[0m\n",
            "\u001b[2K   \u001b[90m━━━━━━━━━━━━━━━━━━━━━━━━━━━━━━━━━━━━━━━━\u001b[0m \u001b[32m144.8/144.8 kB\u001b[0m \u001b[31m4.6 MB/s\u001b[0m eta \u001b[36m0:00:00\u001b[0m\n",
            "\u001b[2K   \u001b[90m━━━━━━━━━━━━━━━━━━━━━━━━━━━━━━━━━━━━━━━━\u001b[0m \u001b[32m70.4/70.4 kB\u001b[0m \u001b[31m4.0 MB/s\u001b[0m eta \u001b[36m0:00:00\u001b[0m\n",
            "\u001b[2K   \u001b[90m━━━━━━━━━━━━━━━━━━━━━━━━━━━━━━━━━━━━━━━━\u001b[0m \u001b[32m126.3/126.3 kB\u001b[0m \u001b[31m4.2 MB/s\u001b[0m eta \u001b[36m0:00:00\u001b[0m\n",
            "\u001b[?25h"
          ]
        }
      ]
    },
    {
      "cell_type": "code",
      "execution_count": 3,
      "metadata": {
        "id": "vuKrzAhF9DS9",
        "outputId": "68cb3a32-0f10-4162-87ed-2573d878dfa8",
        "colab": {
          "base_uri": "https://localhost:8080/"
        }
      },
      "outputs": [
        {
          "output_type": "stream",
          "name": "stdout",
          "text": [
            "Удачі!\n"
          ]
        }
      ],
      "source": [
        "################################################################################\n",
        "# FILL-IN:\n",
        "#-----------------------------------------------------------------------\n",
        "EMAIL = \"maksym.batiuk.kn.2021@lpnu.ua\"  # заповніть вашим значенням\n",
        "################################################################################\n",
        "\n",
        "import lpnlp\n",
        "\n",
        "lab = lpnlp.start(email=EMAIL, lab=\"text_generation\")"
      ]
    },
    {
      "cell_type": "markdown",
      "metadata": {
        "id": "nIrY-_DL9XRv"
      },
      "source": [
        "### Завантаження моделі\n",
        "\n",
        "Тренування мовної моделі з нуля займає багато часу: від кількох годин або днів для маленьких та середніх моделей й аж до кількох місяців чи навіть років для великих. Звичайно, за рахунок розпаралелювання тренування на багатьох GPU, реальний час рідко буває більше місяця-двох.\n",
        "\n",
        "Для цієї роботи (як і в реальному житті), ми візьмемо претреновану модель. Хтось натренував її за нас. В данному випадку, візьмемо GPT-2 від компанії OpenAI.\n",
        "\n",
        "Ця модель, як і безліч інших, зберігається на [HuggingFace Models](https://huggingface.co/models). Завантажити та працювати з нею зручно через бібліотеку [HuggingFace Transformers](https://github.com/huggingface/transformers/)"
      ]
    },
    {
      "cell_type": "code",
      "source": [
        "!pip install transformers"
      ],
      "metadata": {
        "id": "oTaN8J8w4ddP",
        "outputId": "fd0ff350-a239-4051-f2a7-4867b8bf768c",
        "colab": {
          "base_uri": "https://localhost:8080/"
        }
      },
      "execution_count": 4,
      "outputs": [
        {
          "output_type": "stream",
          "name": "stdout",
          "text": [
            "Requirement already satisfied: transformers in /usr/local/lib/python3.10/dist-packages (4.44.2)\n",
            "Requirement already satisfied: filelock in /usr/local/lib/python3.10/dist-packages (from transformers) (3.16.1)\n",
            "Requirement already satisfied: huggingface-hub<1.0,>=0.23.2 in /usr/local/lib/python3.10/dist-packages (from transformers) (0.24.7)\n",
            "Requirement already satisfied: numpy>=1.17 in /usr/local/lib/python3.10/dist-packages (from transformers) (1.26.4)\n",
            "Requirement already satisfied: packaging>=20.0 in /usr/local/lib/python3.10/dist-packages (from transformers) (24.1)\n",
            "Requirement already satisfied: pyyaml>=5.1 in /usr/local/lib/python3.10/dist-packages (from transformers) (6.0.2)\n",
            "Requirement already satisfied: regex!=2019.12.17 in /usr/local/lib/python3.10/dist-packages (from transformers) (2024.9.11)\n",
            "Requirement already satisfied: requests in /usr/local/lib/python3.10/dist-packages (from transformers) (2.32.3)\n",
            "Requirement already satisfied: safetensors>=0.4.1 in /usr/local/lib/python3.10/dist-packages (from transformers) (0.4.5)\n",
            "Requirement already satisfied: tokenizers<0.20,>=0.19 in /usr/local/lib/python3.10/dist-packages (from transformers) (0.19.1)\n",
            "Requirement already satisfied: tqdm>=4.27 in /usr/local/lib/python3.10/dist-packages (from transformers) (4.66.5)\n",
            "Requirement already satisfied: fsspec>=2023.5.0 in /usr/local/lib/python3.10/dist-packages (from huggingface-hub<1.0,>=0.23.2->transformers) (2024.6.1)\n",
            "Requirement already satisfied: typing-extensions>=3.7.4.3 in /usr/local/lib/python3.10/dist-packages (from huggingface-hub<1.0,>=0.23.2->transformers) (4.12.2)\n",
            "Requirement already satisfied: charset-normalizer<4,>=2 in /usr/local/lib/python3.10/dist-packages (from requests->transformers) (3.4.0)\n",
            "Requirement already satisfied: idna<4,>=2.5 in /usr/local/lib/python3.10/dist-packages (from requests->transformers) (3.10)\n",
            "Requirement already satisfied: urllib3<3,>=1.21.1 in /usr/local/lib/python3.10/dist-packages (from requests->transformers) (2.2.3)\n",
            "Requirement already satisfied: certifi>=2017.4.17 in /usr/local/lib/python3.10/dist-packages (from requests->transformers) (2024.8.30)\n"
          ]
        }
      ]
    },
    {
      "cell_type": "code",
      "execution_count": 5,
      "metadata": {
        "id": "Oadzovl02gxh"
      },
      "outputs": [],
      "source": [
        "import transformers\n",
        "import torch"
      ]
    },
    {
      "cell_type": "code",
      "execution_count": 6,
      "metadata": {
        "id": "ZpeVt8kn76PY",
        "outputId": "5810fd37-4359-456c-af4b-f3feafbeaebe",
        "colab": {
          "base_uri": "https://localhost:8080/",
          "height": 240,
          "referenced_widgets": [
            "ae45f13c6db94b1da7e63374ae1a6e6c",
            "8112c14bb6f446b2b48156394708c433",
            "9a9d2ee53324414f949fc960cf968264",
            "10f5ed5f2a7b415594462f48399f75dd",
            "a6f21d7aeeb448a39b15c95ef0f919d4",
            "a334d8bb76f64ac68e5f723214c56853",
            "8063aca67db34223b6079630413cd3c4",
            "dfafa1e020e0406dbebdd2eca0d0960e",
            "e417f5cef5c84442979f34f72a88081f",
            "24c4266cbea54940bb784fdeb3c566a5",
            "f9f5c221b8f14deeb91641492e7307f0",
            "c47c11ca84c347f8bf7e75b828ab574c",
            "bad51b04d0db4ae08ba7324845abec58",
            "3eb1f2debe094646bfa2dc48e2c2df45",
            "c5cebce6a4dd42c7998960e558fd7e8e",
            "2e859219fda045719c00424bb863c3fe",
            "3be1423dfea04dd5b868ccb6cabecb2a",
            "de8f02e74b0948abbb5828998ff4c658",
            "50a85f7f4b9a4cf6bdff678bd552bd20",
            "f1c1dab7ca9b4a558b6dc0ba46684fa7",
            "277c4c171dc94068b1261b9fc6deb79f",
            "af42ed3ee5b14672ac7f9deab8cdf3b1",
            "61d7ac8d58a54c7cbb7324ea1e6e5e82",
            "dfbcb850a7a64255972caaf51a4e31ab",
            "91b75a52ce954975b6e8073a436d6f93",
            "c874f20c2ee14485b9626f4165e9ecbe",
            "82a5bdd7e69e4c7991f6245b6bc4e3d0",
            "962eac95dbf745cfba22efe4bd091cfa",
            "464a0e963f1942d686d102a54fdd1c4d",
            "521c20858f8947ad8330a6d378792abb",
            "5603ad33caa5408db08401d290e15536",
            "d63ca393d085465e88fa42cfb7dca780",
            "1adac4d1473e4f39b373b336e693985b"
          ]
        }
      },
      "outputs": [
        {
          "output_type": "stream",
          "name": "stderr",
          "text": [
            "/usr/local/lib/python3.10/dist-packages/huggingface_hub/utils/_token.py:89: UserWarning: \n",
            "The secret `HF_TOKEN` does not exist in your Colab secrets.\n",
            "To authenticate with the Hugging Face Hub, create a token in your settings tab (https://huggingface.co/settings/tokens), set it as secret in your Google Colab and restart your session.\n",
            "You will be able to reuse this secret in all of your notebooks.\n",
            "Please note that authentication is recommended but still optional to access public models or datasets.\n",
            "  warnings.warn(\n"
          ]
        },
        {
          "output_type": "display_data",
          "data": {
            "text/plain": [
              "config.json:   0%|          | 0.00/665 [00:00<?, ?B/s]"
            ],
            "application/vnd.jupyter.widget-view+json": {
              "version_major": 2,
              "version_minor": 0,
              "model_id": "ae45f13c6db94b1da7e63374ae1a6e6c"
            }
          },
          "metadata": {}
        },
        {
          "output_type": "display_data",
          "data": {
            "text/plain": [
              "model.safetensors:   0%|          | 0.00/548M [00:00<?, ?B/s]"
            ],
            "application/vnd.jupyter.widget-view+json": {
              "version_major": 2,
              "version_minor": 0,
              "model_id": "c47c11ca84c347f8bf7e75b828ab574c"
            }
          },
          "metadata": {}
        },
        {
          "output_type": "display_data",
          "data": {
            "text/plain": [
              "generation_config.json:   0%|          | 0.00/124 [00:00<?, ?B/s]"
            ],
            "application/vnd.jupyter.widget-view+json": {
              "version_major": 2,
              "version_minor": 0,
              "model_id": "61d7ac8d58a54c7cbb7324ea1e6e5e82"
            }
          },
          "metadata": {}
        }
      ],
      "source": [
        "model = transformers.AutoModelForCausalLM.from_pretrained(\"gpt2\")"
      ]
    },
    {
      "cell_type": "markdown",
      "source": [
        "## Токенізація\n",
        "\n",
        "Кожна модель має словник токенів, з яким вона тренувалася, та правила токенізації (розбиття тексту на токени). Обов'язково слід використовувати той самий словник та метод.\n",
        "\n",
        "Бібліотека transformers вміє робити це для кожної підтримуваної моделі."
      ],
      "metadata": {
        "id": "vaZDEIu85NJ-"
      }
    },
    {
      "cell_type": "code",
      "source": [
        "tokenizer = transformers.AutoTokenizer.from_pretrained(\"gpt2\")"
      ],
      "metadata": {
        "id": "KTKW10u75soH",
        "outputId": "385109ae-2689-4133-dfd1-66cc9490bcf6",
        "colab": {
          "base_uri": "https://localhost:8080/",
          "height": 201,
          "referenced_widgets": [
            "54536a63bc554c83823251dda419e42a",
            "eba06c3702284c2f899f418c1b99e404",
            "fe83a84a6c684f289b78539dec5e8abb",
            "181b52ea6a634b4287a17104d8021986",
            "a0a7ce80255d4d3d834ac787bbd17542",
            "175c17c96f414a4a9345a06082eede12",
            "8d7977944fc14c869522f8f60af58346",
            "4785681a0c2043fab5c38b641da44251",
            "1363a56b265241b8ad396e119c78ae97",
            "0c683a78414e437cb1170aaafba9a22f",
            "7ace52df2043436b9396f0fcc5da8b36",
            "173beb0b7e9447bda7dd57b8d0eca120",
            "3a790096091e47519fa006c7f50f9a15",
            "7c6fd3e9e7fd4ed892e33cdc4ce5436a",
            "f3e46d2646fc4505909c68e0159a1a03",
            "a32e5933fa3d4437a08424877b5db841",
            "7b49c9c65e3a4caa88bdb8452428529b",
            "ac754877728f4c7983a47f76e1e7c92c",
            "5da5955bfea34a4fa90cc018ec018ed8",
            "766f528f0a944bf182a21b0ee12010a5",
            "390001b02fd947d7965a840fa0d2d179",
            "39c044a8af3641eda8e4390027ed8368",
            "b92488569d854d38b2db99b8630ae528",
            "f70b9b459e9545538ebfd346a0dc991e",
            "5874a14c967c4f53aa35a78ead6ff86b",
            "e7d493c8a175447589f3daefc766e20f",
            "e5371e12a6584dec8d4d447d1103072f",
            "7dd6248a13ce43db936d903224ec43eb",
            "1b09d59cc23d41af99d5d4b0dedd1f51",
            "341f7138c5a045439764e7b90a28cc80",
            "31cf43fc3963485580462e42e23eb49e",
            "91a5b392b71b4bbc9b0b3a681992bf28",
            "5fb46265357545908e86b800e5ff4551",
            "0c3852143c0d44408f1aefdcce8e0f1d",
            "033e9f5b38e045c59a5d3e8e9f18d648",
            "5d338365a8d541f5a2f8b8fdd681ee13",
            "1ea0c08f28364b90a8c9001848e07132",
            "e0ac93f000f14d31b39b851aba341ead",
            "6e2018f0bb6840debb344feaf441d085",
            "779ba4349ce74c52a933298680b4fba4",
            "b74fdcfe94f84d36ba68ba8f116c9656",
            "72f04ee0bbb94869998a45f9b62fc5f1",
            "bf0ceab6aeaf402c93a6b1b6d6c1214e",
            "ce9b2615eefa4f0b8b6229b59292cfda"
          ]
        }
      },
      "execution_count": 7,
      "outputs": [
        {
          "output_type": "display_data",
          "data": {
            "text/plain": [
              "tokenizer_config.json:   0%|          | 0.00/26.0 [00:00<?, ?B/s]"
            ],
            "application/vnd.jupyter.widget-view+json": {
              "version_major": 2,
              "version_minor": 0,
              "model_id": "54536a63bc554c83823251dda419e42a"
            }
          },
          "metadata": {}
        },
        {
          "output_type": "display_data",
          "data": {
            "text/plain": [
              "vocab.json:   0%|          | 0.00/1.04M [00:00<?, ?B/s]"
            ],
            "application/vnd.jupyter.widget-view+json": {
              "version_major": 2,
              "version_minor": 0,
              "model_id": "173beb0b7e9447bda7dd57b8d0eca120"
            }
          },
          "metadata": {}
        },
        {
          "output_type": "display_data",
          "data": {
            "text/plain": [
              "merges.txt:   0%|          | 0.00/456k [00:00<?, ?B/s]"
            ],
            "application/vnd.jupyter.widget-view+json": {
              "version_major": 2,
              "version_minor": 0,
              "model_id": "b92488569d854d38b2db99b8630ae528"
            }
          },
          "metadata": {}
        },
        {
          "output_type": "display_data",
          "data": {
            "text/plain": [
              "tokenizer.json:   0%|          | 0.00/1.36M [00:00<?, ?B/s]"
            ],
            "application/vnd.jupyter.widget-view+json": {
              "version_major": 2,
              "version_minor": 0,
              "model_id": "0c3852143c0d44408f1aefdcce8e0f1d"
            }
          },
          "metadata": {}
        },
        {
          "output_type": "stream",
          "name": "stderr",
          "text": [
            "/usr/local/lib/python3.10/dist-packages/transformers/tokenization_utils_base.py:1601: FutureWarning: `clean_up_tokenization_spaces` was not set. It will be set to `True` by default. This behavior will be depracted in transformers v4.45, and will be then set to `False` by default. For more details check this issue: https://github.com/huggingface/transformers/issues/31884\n",
            "  warnings.warn(\n"
          ]
        }
      ]
    },
    {
      "cell_type": "markdown",
      "source": [
        "Перевіримо токенізатор:"
      ],
      "metadata": {
        "id": "9NHX7-Rk5zwg"
      }
    },
    {
      "cell_type": "code",
      "source": [
        "input_text = \"Hello, LP NLP!\"\n",
        "token_ids = tokenizer.encode(input_text)\n",
        "token_ids"
      ],
      "metadata": {
        "id": "7Nc_Ntq659R9",
        "outputId": "923d1db7-00ff-47cb-971f-dfce54c2a7e4",
        "colab": {
          "base_uri": "https://localhost:8080/"
        }
      },
      "execution_count": 8,
      "outputs": [
        {
          "output_type": "execute_result",
          "data": {
            "text/plain": [
              "[15496, 11, 18470, 399, 19930, 0]"
            ]
          },
          "metadata": {},
          "execution_count": 8
        }
      ]
    },
    {
      "cell_type": "code",
      "source": [
        "tokenizer.convert_ids_to_tokens(token_ids)"
      ],
      "metadata": {
        "id": "JV8NyH1q6I-b",
        "outputId": "de7b3387-f5eb-44d1-e330-19f7fc33c22f",
        "colab": {
          "base_uri": "https://localhost:8080/"
        }
      },
      "execution_count": 9,
      "outputs": [
        {
          "output_type": "execute_result",
          "data": {
            "text/plain": [
              "['Hello', ',', 'ĠLP', 'ĠN', 'LP', '!']"
            ]
          },
          "metadata": {},
          "execution_count": 9
        }
      ]
    },
    {
      "cell_type": "markdown",
      "source": [
        "Рідкісні слова будуть розбиті на підслова:"
      ],
      "metadata": {
        "id": "7SFJkiCn60kS"
      }
    },
    {
      "cell_type": "code",
      "source": [
        "tokenizer.convert_ids_to_tokens(tokenizer.encode(\"My name is Oleksiy Syvokon\"))"
      ],
      "metadata": {
        "id": "RxmMsUgo6u7-",
        "outputId": "1f645c96-0ed6-4ae0-ddaa-92f662eefbe7",
        "colab": {
          "base_uri": "https://localhost:8080/"
        }
      },
      "execution_count": 10,
      "outputs": [
        {
          "output_type": "execute_result",
          "data": {
            "text/plain": [
              "['My', 'Ġname', 'Ġis', 'ĠOle', 'ks', 'iy', 'ĠSy', 'v', 'ok', 'on']"
            ]
          },
          "metadata": {},
          "execution_count": 10
        }
      ]
    },
    {
      "cell_type": "markdown",
      "metadata": {
        "id": "S3Uh8W7wMpwE"
      },
      "source": [
        "## Перевірка моделі -- один крок ітерації"
      ]
    },
    {
      "cell_type": "markdown",
      "metadata": {
        "id": "_LiBLRgyNu32"
      },
      "source": [
        "Ми генеруватимемо текст в циклі токен за токеном, зліва направо. Але для початку розберімо, як виглядає один крок такого циклу.\n"
      ]
    },
    {
      "cell_type": "markdown",
      "metadata": {
        "id": "c9cbLyy3N-u9"
      },
      "source": [
        "На кожному кроці на вхід моделі подаємо ті токени, які вже згенеровано.\n",
        "\n",
        "На першому кроці у нас ще нічого не згенеровано. Тому починаємо зі токену `<BOS>` (\"begin of sentence\"). В різних моделях він виглядає по-різному. Подивимося, що в GPT-2:\n"
      ]
    },
    {
      "cell_type": "code",
      "source": [
        "tokenizer.bos_token"
      ],
      "metadata": {
        "id": "xRVmoPoj0-IR",
        "outputId": "04c16e15-e155-4348-be6d-0751e6d8517c",
        "colab": {
          "base_uri": "https://localhost:8080/",
          "height": 35
        }
      },
      "execution_count": 11,
      "outputs": [
        {
          "output_type": "execute_result",
          "data": {
            "text/plain": [
              "'<|endoftext|>'"
            ],
            "application/vnd.google.colaboratory.intrinsic+json": {
              "type": "string"
            }
          },
          "metadata": {},
          "execution_count": 11
        }
      ]
    },
    {
      "cell_type": "code",
      "source": [
        "tokenizer.bos_token_id"
      ],
      "metadata": {
        "id": "bqnkWMCO3FOS",
        "outputId": "2e2b1eb1-11be-4d2d-fa02-c3b5b663553d",
        "colab": {
          "base_uri": "https://localhost:8080/"
        }
      },
      "execution_count": 12,
      "outputs": [
        {
          "output_type": "execute_result",
          "data": {
            "text/plain": [
              "50256"
            ]
          },
          "metadata": {},
          "execution_count": 12
        }
      ]
    },
    {
      "cell_type": "code",
      "execution_count": 13,
      "metadata": {
        "id": "y6z8l1TlRQa-",
        "outputId": "02a953ae-3ad9-41ca-f2ce-a73e2b60f939",
        "colab": {
          "base_uri": "https://localhost:8080/"
        }
      },
      "outputs": [
        {
          "output_type": "execute_result",
          "data": {
            "text/plain": [
              "tensor([[50256]])"
            ]
          },
          "metadata": {},
          "execution_count": 13
        }
      ],
      "source": [
        "# Формуємо вхідний батч. Майже завжди для більшої ефективності\n",
        "# нейронні мережі очікують на вхід кілька незалежних речень\n",
        "# (або зображень у випадку з комп'ютерним зором)\n",
        "#\n",
        "# В нашій роботі ми завжди працюємо лише з одним реченням,\n",
        "# тож розмір батча дорівнює одинці. Але все одно маємо\n",
        "# оформити вхід як матрицю:\n",
        "input_ = torch.LongTensor([[tokenizer.bos_token_id]])\n",
        "input_"
      ]
    },
    {
      "cell_type": "code",
      "execution_count": 14,
      "metadata": {
        "id": "vSiBQkJJSGue",
        "outputId": "c7c5c23c-7e39-4208-be24-f3211856d042",
        "colab": {
          "base_uri": "https://localhost:8080/"
        }
      },
      "outputs": [
        {
          "output_type": "execute_result",
          "data": {
            "text/plain": [
              "torch.Size([1, 1, 50257])"
            ]
          },
          "metadata": {},
          "execution_count": 14
        }
      ],
      "source": [
        "# Нарешті робимо крок генерації\n",
        "output = model(input_, return_dict=True)\n",
        "\n",
        "# На виході модель повертає вектор з logits -- ненормалізованими\n",
        "# ймовірностями кожного токена в словнику\n",
        "output.logits.shape"
      ]
    },
    {
      "cell_type": "markdown",
      "source": [
        "Чому маємо саме таку розмірність?\n",
        "\n",
        "* Перша одиниця -- розмір батча, тобто кількість вхідних речень.\n",
        "* Друга одиниця -- це довжина вхідної послідовності. На першому кроці ми подали лише один токен (bos_token)\n",
        "* 50257 -- це розмір словника"
      ],
      "metadata": {
        "id": "Ckux9YLV4viE"
      }
    },
    {
      "cell_type": "code",
      "source": [
        "tokenizer.vocab_size"
      ],
      "metadata": {
        "id": "P_YkZjZl5MoV",
        "outputId": "3a52a849-c871-44a9-a7f7-b20fde35eb6b",
        "colab": {
          "base_uri": "https://localhost:8080/"
        }
      },
      "execution_count": 15,
      "outputs": [
        {
          "output_type": "execute_result",
          "data": {
            "text/plain": [
              "50257"
            ]
          },
          "metadata": {},
          "execution_count": 15
        }
      ]
    },
    {
      "cell_type": "markdown",
      "metadata": {
        "id": "xNoTYS-1Sr2y"
      },
      "source": [
        "Поки що модель повернула не ймовірності, а просто якісь числа. Їм треба нормалізувати функцією softmax:"
      ]
    },
    {
      "cell_type": "code",
      "source": [
        "probs = torch.softmax(output.logits, dim=-1)"
      ],
      "metadata": {
        "id": "GNlOw5qT3wXP"
      },
      "execution_count": 16,
      "outputs": []
    },
    {
      "cell_type": "code",
      "execution_count": 17,
      "metadata": {
        "id": "dMCovI7uS1N8",
        "outputId": "583136c3-9c25-4a09-bfbf-e76699980258",
        "colab": {
          "base_uri": "https://localhost:8080/"
        }
      },
      "outputs": [
        {
          "output_type": "execute_result",
          "data": {
            "text/plain": [
              "torch.Size([1, 1, 50257])"
            ]
          },
          "metadata": {},
          "execution_count": 17
        }
      ],
      "source": [
        "# Розмірність має збігатися з розміром словника\n",
        "probs.shape"
      ]
    },
    {
      "cell_type": "code",
      "execution_count": 18,
      "metadata": {
        "id": "_1H8iIaSTHJl",
        "outputId": "c228a3e6-259f-4231-f40c-59bb8a6a7032",
        "colab": {
          "base_uri": "https://localhost:8080/"
        }
      },
      "outputs": [
        {
          "output_type": "execute_result",
          "data": {
            "text/plain": [
              "tensor(1.0000, grad_fn=<SumBackward0>)"
            ]
          },
          "metadata": {},
          "execution_count": 18
        }
      ],
      "source": [
        "# Сума ймовірностей має дорівнювати 1.0\n",
        "probs.sum()"
      ]
    },
    {
      "cell_type": "markdown",
      "source": [
        "Ймовірності можуть ставати дуже маленькими та причиняти проблеми у зв'язку з обмеженою точністю float чисел. Тому прийнято працювати з логарифмами ймовірностей."
      ],
      "metadata": {
        "id": "jUzNuPn15o7y"
      }
    },
    {
      "cell_type": "code",
      "source": [
        "log_probs = torch.log_softmax(output.logits, dim=-1)\n",
        "\n",
        "# Щоб перейти до звичайних ймовірностей, маємо зробити експоненціювання\n",
        "log_probs.exp().sum()"
      ],
      "metadata": {
        "id": "sAN57ZiW5-75",
        "outputId": "68ecb1e3-cc66-48fa-9cc7-d234379b6152",
        "colab": {
          "base_uri": "https://localhost:8080/"
        }
      },
      "execution_count": 19,
      "outputs": [
        {
          "output_type": "execute_result",
          "data": {
            "text/plain": [
              "tensor(1.0000, grad_fn=<SumBackward0>)"
            ]
          },
          "metadata": {},
          "execution_count": 19
        }
      ]
    },
    {
      "cell_type": "markdown",
      "source": [
        "Кожному слову в словнику відповідає своя ймовірність бути побаченим\n",
        "після заданого префікса. Префіксом у нас поки що був лише одни `bos_token`.\n"
      ],
      "metadata": {
        "id": "ZYdd1kQv6kYU"
      }
    },
    {
      "cell_type": "code",
      "execution_count": 20,
      "metadata": {
        "id": "kA1iznWPTdK4",
        "outputId": "2d8f9718-f3cc-47e9-882a-d05895afa4be",
        "colab": {
          "base_uri": "https://localhost:8080/"
        }
      },
      "outputs": [
        {
          "output_type": "stream",
          "name": "stdout",
          "text": [
            "P(I) = 0.018320858478546143\n",
            "P(red) = 0.00010652346827555448\n",
            "P(Why) = 0.0008686637738719583\n"
          ]
        }
      ],
      "source": [
        "# Яка ймовірність, що речення почнеться зі слів \"I\", \"red\", \"Why\"?\n",
        "for word in (\"I\", \"red\", \"Why\"):\n",
        "    index = tokenizer.convert_tokens_to_ids(word)\n",
        "    prob = log_probs[0, 0, index].exp()\n",
        "    print(f\"P({word}) = {prob}\")"
      ]
    },
    {
      "cell_type": "markdown",
      "metadata": {
        "id": "kaoCr91RTw4Z"
      },
      "source": [
        "Тепер ми маємо ймовірностний розподіл по словнику. Можемо обрати слово, яке вважатимемо згенерованим. Тут можливі кілька стратегій, які ми розглянемо в наступних розділах."
      ]
    },
    {
      "cell_type": "markdown",
      "metadata": {
        "id": "wUbajoW_-ClA"
      },
      "source": [
        "## Greedy decoding"
      ]
    },
    {
      "cell_type": "markdown",
      "metadata": {
        "id": "9yOkcB3FUd3N"
      },
      "source": [
        "Найпростіший (але й не дуже цікавий) спосіб -- це завжди обирати токен з найбільшою ймовірністю:"
      ]
    },
    {
      "cell_type": "code",
      "execution_count": 21,
      "metadata": {
        "id": "wG7QsAjPUoHW",
        "outputId": "6c2dc940-d449-42fe-b1de-3ee95444a086",
        "colab": {
          "base_uri": "https://localhost:8080/"
        }
      },
      "outputs": [
        {
          "output_type": "execute_result",
          "data": {
            "text/plain": [
              "tensor(198)"
            ]
          },
          "metadata": {},
          "execution_count": 21
        }
      ],
      "source": [
        "next_token_id = log_probs.argmax()\n",
        "next_token_id"
      ]
    },
    {
      "cell_type": "code",
      "execution_count": 22,
      "metadata": {
        "id": "Z87pe4Y0VJ1W",
        "outputId": "1cb65ce0-8f57-4ccb-aee5-1396ce04d4cd",
        "colab": {
          "base_uri": "https://localhost:8080/"
        }
      },
      "outputs": [
        {
          "output_type": "execute_result",
          "data": {
            "text/plain": [
              "tensor(0.0623, grad_fn=<SelectBackward0>)"
            ]
          },
          "metadata": {},
          "execution_count": 22
        }
      ],
      "source": [
        "probs[-1, -1, 198]"
      ]
    },
    {
      "cell_type": "code",
      "execution_count": 23,
      "metadata": {
        "id": "WaZRZWpAUtNY",
        "outputId": "f5ca3315-7d89-45f2-e3be-6a3f395df147",
        "colab": {
          "base_uri": "https://localhost:8080/"
        }
      },
      "outputs": [
        {
          "output_type": "execute_result",
          "data": {
            "text/plain": [
              "['Ċ']"
            ]
          },
          "metadata": {},
          "execution_count": 23
        }
      ],
      "source": [
        "tokenizer.convert_ids_to_tokens([next_token_id])  # Наш перший згенерований токен"
      ]
    },
    {
      "cell_type": "markdown",
      "metadata": {
        "id": "YVB5pXOoX29S"
      },
      "source": [
        "Зберемо код докупи та додамо цикл. В циклі ми продовжуватимемо генерувати текст токен за токеном, поки не настане одна з двох умов:\n",
        "1. Модель видала спецальний токен `eos_token` (end of sentence)\n",
        "2. Довжина згенерованого тексту перевищила певний поріг `max_len`\n",
        "\n",
        "У хорошої моделі в більшості випадків має спрацьовувати перша умова зупинки. Проте іноді модель може впасти в безкінчений цикл. Щоб цьому запобігти, маємо другу умову."
      ]
    },
    {
      "cell_type": "code",
      "execution_count": 24,
      "metadata": {
        "id": "cG8nI5WG-Qb5"
      },
      "outputs": [],
      "source": [
        "@torch.no_grad()\n",
        "def greedy_decode(model, tokenizer, max_len=50):\n",
        "    start_index = tokenizer.bos_token_id\n",
        "    result = [start_index]\n",
        "\n",
        "    while len(result) < max_len:\n",
        "\n",
        "        # Передбачення ймовірностней наступного токена\n",
        "        input_ = torch.LongTensor([result])\n",
        "        output = model(input_)\n",
        "        probs = torch.log_softmax(output.logits[0, -1], dim=-1)\n",
        "\n",
        "        # Обираємо токен, що має найбільшу ймовірність\n",
        "        token_index = probs.argmax()\n",
        "\n",
        "        # Зупиняємося, якщо досягли кінця\n",
        "        if token_index == tokenizer.eos_token_id:\n",
        "            break\n",
        "\n",
        "        # Додаємо обраний токен в згенерований текст\n",
        "        result.append(token_index.item())\n",
        "\n",
        "    return result\n",
        "\n",
        "\n",
        "generated_token_ids = greedy_decode(model, tokenizer)"
      ]
    },
    {
      "cell_type": "markdown",
      "source": [
        "Маємо список згенерованих індексів токенів, який починається ось так:"
      ],
      "metadata": {
        "id": "4myF4KrG-rxZ"
      }
    },
    {
      "cell_type": "code",
      "source": [
        "generated_token_ids[:10]"
      ],
      "metadata": {
        "id": "FXp0P-Yz-0UG",
        "outputId": "b2fd9c30-9ba9-400a-a6e8-6544e37b3d20",
        "colab": {
          "base_uri": "https://localhost:8080/"
        }
      },
      "execution_count": 25,
      "outputs": [
        {
          "output_type": "execute_result",
          "data": {
            "text/plain": [
              "[50256, 198, 464, 717, 640, 314, 2497, 262, 649, 2196]"
            ]
          },
          "metadata": {},
          "execution_count": 25
        }
      ]
    },
    {
      "cell_type": "markdown",
      "source": [
        "Перетворимо їх в текст:"
      ],
      "metadata": {
        "id": "ANlG9v8--8Fa"
      }
    },
    {
      "cell_type": "code",
      "source": [
        "tokens = tokenizer.convert_ids_to_tokens(generated_token_ids)\n",
        "tokens[:10]"
      ],
      "metadata": {
        "id": "t7X6m4vs91IJ",
        "outputId": "e0c4184b-86cc-41ce-f3db-734d0108681a",
        "colab": {
          "base_uri": "https://localhost:8080/"
        }
      },
      "execution_count": 26,
      "outputs": [
        {
          "output_type": "execute_result",
          "data": {
            "text/plain": [
              "['<|endoftext|>',\n",
              " 'Ċ',\n",
              " 'The',\n",
              " 'Ġfirst',\n",
              " 'Ġtime',\n",
              " 'ĠI',\n",
              " 'Ġsaw',\n",
              " 'Ġthe',\n",
              " 'Ġnew',\n",
              " 'Ġversion']"
            ]
          },
          "metadata": {},
          "execution_count": 26
        }
      ]
    },
    {
      "cell_type": "code",
      "source": [
        "generated_text = \"\".join(tokens)\n",
        "generated_text"
      ],
      "metadata": {
        "id": "vde2_-J1_JDv",
        "outputId": "d5b6eb87-93d9-4b2e-c866-608ce30cab88",
        "colab": {
          "base_uri": "https://localhost:8080/",
          "height": 53
        }
      },
      "execution_count": 27,
      "outputs": [
        {
          "output_type": "execute_result",
          "data": {
            "text/plain": [
              "'<|endoftext|>ĊTheĠfirstĠtimeĠIĠsawĠtheĠnewĠversionĠofĠtheĠgame,ĠIĠwasĠsoĠexcited.ĠIĠwasĠsoĠexcitedĠtoĠseeĠtheĠnewĠversionĠofĠtheĠgame,ĠIĠwasĠsoĠexcitedĠtoĠseeĠtheĠnewĠversionĠofĠtheĠgame,ĠIĠwasĠsoĠexcitedĠto'"
            ],
            "application/vnd.google.colaboratory.intrinsic+json": {
              "type": "string"
            }
          },
          "metadata": {},
          "execution_count": 27
        }
      ]
    },
    {
      "cell_type": "code",
      "execution_count": 28,
      "metadata": {
        "id": "Qv0i3pqdJ3Bn",
        "outputId": "72adea1b-08dc-445f-a725-3d3a5451e6f3",
        "colab": {
          "base_uri": "https://localhost:8080/",
          "height": 89
        }
      },
      "outputs": [
        {
          "output_type": "stream",
          "name": "stdout",
          "text": [
            "Відповідь правильна ✅\n",
            "\n"
          ]
        },
        {
          "output_type": "execute_result",
          "data": {
            "text/plain": [
              "'<|endoftext|>ĊTheĠfirstĠtimeĠIĠsawĠtheĠnewĠversionĠofĠtheĠgame,ĠIĠwasĠsoĠexcited.ĠIĠwasĠsoĠexcitedĠtoĠseeĠtheĠnewĠversionĠofĠtheĠgame,ĠIĠwasĠsoĠexcitedĠtoĠseeĠtheĠnewĠversionĠofĠtheĠgame,ĠIĠwasĠsoĠexcitedĠto'"
            ],
            "application/vnd.google.colaboratory.intrinsic+json": {
              "type": "string"
            }
          },
          "metadata": {},
          "execution_count": 28
        }
      ],
      "source": [
        "lab.checkpoint(\"greedy decode\", generated_text)"
      ]
    },
    {
      "cell_type": "markdown",
      "metadata": {
        "id": "9GN1tc5kYsOk"
      },
      "source": [
        "### Примітка: Byte-pair encoding (BPE)\n",
        "\n",
        "Наша модель використовує subword токенізацію, а саме byte-pair encoding (BPE). В сучасному NLP це найрозповсюдженіший спосіб токенізації. Детально можете подивитися в [цьому відео](https://www.youtube.com/watch?v=tOMjTCO0htA).\n",
        "\n",
        "Для наших цілей зараз важливо, що BPE заміняє пробіли на спеціальні Unicode-символи \"Ġ\". Серед інших моделей широко поширений варіант \"▁\" (зверніть увагу, це не звичайний символ підкреслення \"_\"). Щоб отримати чистий текст, треба виконати наступну заміну:"
      ]
    },
    {
      "cell_type": "code",
      "execution_count": 29,
      "metadata": {
        "id": "5S_BPCLY_V9h",
        "outputId": "fbe4a867-46c1-4209-ed96-7f151f364133",
        "colab": {
          "base_uri": "https://localhost:8080/",
          "height": 53
        }
      },
      "outputs": [
        {
          "output_type": "execute_result",
          "data": {
            "text/plain": [
              "'<|endoftext|>\\nThe first time I saw the new version of the game, I was so excited. I was so excited to see the new version of the game, I was so excited to see the new version of the game, I was so excited to'"
            ],
            "application/vnd.google.colaboratory.intrinsic+json": {
              "type": "string"
            }
          },
          "metadata": {},
          "execution_count": 29
        }
      ],
      "source": [
        "def bpe_decode(s):\n",
        "    result = s.replace(\"Ġ\", \" \")\n",
        "    result = result.replace(\"Ċ\", \"\\n\")\n",
        "    return result\n",
        "\n",
        "bpe_decode(generated_text)"
      ]
    },
    {
      "cell_type": "markdown",
      "source": [
        "Але краще довіритися токенізатору й зробити цю роботу за нас:"
      ],
      "metadata": {
        "id": "42kMbpie_3cb"
      }
    },
    {
      "cell_type": "code",
      "source": [
        "tokenizer.convert_tokens_to_string(tokens)"
      ],
      "metadata": {
        "id": "oycMPnuo__po",
        "outputId": "a09dd885-e2ff-4873-d80c-656c1a1713f5",
        "colab": {
          "base_uri": "https://localhost:8080/",
          "height": 53
        }
      },
      "execution_count": 30,
      "outputs": [
        {
          "output_type": "execute_result",
          "data": {
            "text/plain": [
              "'<|endoftext|>\\nThe first time I saw the new version of the game, I was so excited. I was so excited to see the new version of the game, I was so excited to see the new version of the game, I was so excited to'"
            ],
            "application/vnd.google.colaboratory.intrinsic+json": {
              "type": "string"
            }
          },
          "metadata": {},
          "execution_count": 30
        }
      ]
    },
    {
      "cell_type": "markdown",
      "metadata": {
        "id": "vK0wKs4IAk4l"
      },
      "source": [
        "## Generic decoding function\n",
        "\n",
        "Обирати слово з найбільшою ймовірністю -- не найкращий варіант для генерації тексту хоча б тому, що він завжди детерміновано призводить до однієї послідовності. Нижче ми подивимося на цікавіші альтернативи.\n",
        "\n",
        "Цикл генерації залишиться той самий, що і в `greedy_decode()`. Відрізнятися буде лише один рядок -- той, в якому ми приймали рішення, яке слово обрати. Для зручності, винесемо цей рядок в окрему функцію. Ця функція прийматиме на вхід ймовірностний розподіл по словнику і повертає обраний токен."
      ]
    },
    {
      "cell_type": "code",
      "execution_count": 31,
      "metadata": {
        "id": "8KQ_8Mky9enZ"
      },
      "outputs": [],
      "source": [
        "def greedy_choice(probs):\n",
        "    return probs.argmax()"
      ]
    },
    {
      "cell_type": "markdown",
      "metadata": {
        "id": "XmH11o729oQL"
      },
      "source": [
        "Функцію генерації також трохи переробимо.\n",
        "\n",
        "По-перше, додамо параметр `sample_fn` -- це має бути функція, яка обирає слово з ймовірностного розподілу, наприклад, `greedy_choice`.\n",
        "\n",
        "По-друге, для зручності виконуватимемо BPE декодинг у середині функції генерації."
      ]
    },
    {
      "cell_type": "code",
      "execution_count": 32,
      "metadata": {
        "id": "7eEGscC5Amzw",
        "outputId": "8696350e-34f1-42ec-aa47-ef3cbf86b6f0",
        "colab": {
          "base_uri": "https://localhost:8080/",
          "height": 53
        }
      },
      "outputs": [
        {
          "output_type": "execute_result",
          "data": {
            "text/plain": [
              "'<|endoftext|>\\nThe first time I saw the new version of the game, I was so excited. I was so excited to see the new version of the game, I was so excited to see the new version of the game, I was so excited to'"
            ],
            "application/vnd.google.colaboratory.intrinsic+json": {
              "type": "string"
            }
          },
          "metadata": {},
          "execution_count": 32
        }
      ],
      "source": [
        "@torch.no_grad()\n",
        "def generate(model, tokenizer, sample_fn, max_len=50, bpe_decode=True):\n",
        "    start_index = tokenizer.bos_token_id\n",
        "    result = [start_index]\n",
        "\n",
        "    while len(result) < max_len:\n",
        "\n",
        "        # Передбачення ймовірностней наступного токена\n",
        "        input_ = torch.LongTensor([result])\n",
        "        output = model(input_)\n",
        "        log_probs = torch.log_softmax(output.logits[0, -1], dim=-1)\n",
        "\n",
        "        # Обираємо токен, що має найбільшу ймовірність\n",
        "        token_index = sample_fn(log_probs.exp())     # <---------------- цей рядок змінено\n",
        "\n",
        "        # Зупиняємося, якщо досягнули кінця\n",
        "        if token_index == tokenizer.eos_token_id:\n",
        "            break\n",
        "\n",
        "        # Додаємо обраний токен в згенерований текст\n",
        "        result.append(token_index.item())\n",
        "\n",
        "    if bpe_decode:\n",
        "        tokens = tokenizer.convert_ids_to_tokens(result)\n",
        "        result = tokenizer.convert_tokens_to_string(tokens)\n",
        "\n",
        "    return result\n",
        "\n",
        "\n",
        "generate(model, tokenizer, greedy_choice)"
      ]
    },
    {
      "cell_type": "markdown",
      "metadata": {
        "id": "GXHiIrfZAnpW"
      },
      "source": [
        "## Simple sampling"
      ]
    },
    {
      "cell_type": "markdown",
      "metadata": {
        "id": "7bbdLT96Bd8c"
      },
      "source": [
        "Перший альтернатива -- це sampling. Тепер ми обираємо наступний токен випадково, але пропорційно до ймовірностей."
      ]
    },
    {
      "cell_type": "code",
      "execution_count": 33,
      "metadata": {
        "id": "01Y-djIkAsGB",
        "outputId": "c7acb5db-88ad-494a-e7c2-ce230de4dc77",
        "colab": {
          "base_uri": "https://localhost:8080/"
        }
      },
      "outputs": [
        {
          "output_type": "stream",
          "name": "stdout",
          "text": [
            "#1: <|endoftext|>Enthusiasts occupy three of our summer's longest hours in the sun, and their energy-products are pruned to about a small hour for the hunt and draw in brisk Energy.\n",
            "\n",
            "Hello References\n",
            "\n",
            "Meeting and Promising\n",
            "\n",
            "#2: <|endoftext|>iffwheel(4, 2): restoration#128}*1*elemental0))))*3 - ( novice oil)\n",
            "\n",
            "\n",
            "* msg(&i); html += '</script id=' + parseInt(173, 34) * h\n",
            "\n",
            "#3: <|endoftext|>Reportedly sporting the likes of XO Sneely to his left, Spooky headstrong James Gordon should be a bit difficult to knock off this year, as he's with the speedster so incessantly at home, and he's\n",
            "\n",
            "#4: <|endoftext|>**ALLVA NOVA ***\n",
            "\n",
            "#5: <|endoftext|>It maneuvers to funnel an insectoid that resembles an egg on a specimen's head. Its mouth gives off an excited rush when pulled through the ear canal. Malasseldzius, pronounced \"Malasseld\", is a species of Latin ten\n",
            "\n"
          ]
        }
      ],
      "source": [
        "def simple_sample(probs):\n",
        "    return torch.multinomial(probs, num_samples=1)[0]\n",
        "\n",
        "# Згенеруємо 5 речень\n",
        "for i in range(1, 6):\n",
        "    result = generate(model, tokenizer, simple_sample)\n",
        "    print(f\"#{i}: {result}\")\n",
        "    print()"
      ]
    },
    {
      "cell_type": "markdown",
      "metadata": {
        "id": "XwJG_jGmBXCU"
      },
      "source": [
        "## Sampling with temperature\n",
        "\n",
        "Ми також можемо впливати на генерацію параметром температури softmax.\n",
        "\n",
        "Більші значення температури призводять до того, що різниця між ймовірностями токенів зменшується, тобто розподіл стає більш рівномірним. На практиці це означає, що менш ймовірні варіанти обиратимуться частіше і згенерований текст може бути цікавішим. Однак якщо продовжувати піднімати температуру, то текст спочатку втратить зв'язність, далі почнуть розпадатися слова та граматичність.\n",
        "\n",
        "Менші значення температури змінюють розподіл таким чином, що основна ймовірніста маса припадає на невелику кількість топових токенів. При температурі 0 вся ймовірність дістанеться одному токену й семплінг перетвориться на greedy decoding.\n",
        "\n",
        "Згенеруємо тексти з різною температурою:"
      ]
    },
    {
      "cell_type": "code",
      "execution_count": 34,
      "metadata": {
        "id": "0Y_J1eS3BfTF",
        "outputId": "da82ccaf-d60f-4b9e-9490-48a114e7450b",
        "colab": {
          "base_uri": "https://localhost:8080/"
        }
      },
      "outputs": [
        {
          "output_type": "stream",
          "name": "stdout",
          "text": [
            "Sampling with temperature=0.1\n",
            "<|endoftext|>\n",
            "The first time I saw the new version of the game, I\n",
            "\n",
            "Sampling with temperature=0.3\n",
            "<|endoftext|>\n",
            "The first time I saw a video of the new Apple Watch was\n",
            "\n",
            "Sampling with temperature=0.5\n",
            "<|endoftext|>The cyberattack on Sony Pictures Entertainment's website was disclosed by a third\n",
            "\n",
            "Sampling with temperature=0.8\n",
            "<|endoftext|>Our past experience as executives and studio executives at Sony Pictures has been to\n",
            "\n",
            "Sampling with temperature=1.0\n",
            "<|endoftext|>See better\n",
            "\n",
            "Share this: Facebook\n",
            "\n",
            "Twitter\n",
            "\n",
            "Google\n",
            "\n",
            "Sampling with temperature=1.25\n",
            "<|endoftext|>Len Lowry The Sect beast LanceMymah Spectre Brierozzle\n",
            "\n",
            "\n",
            "Sampling with temperature=1.5\n",
            "<|endoftext|> would quiet writing ads trick great like novel thriller Australia promises potential world 113\n",
            "\n",
            "Sampling with temperature=2.0\n",
            "<|endoftext|>Doyal Information Servcollege Facts Drops Sour ??field Bears Knotmiegger\n",
            "\n",
            "Sampling with temperature=3.0\n",
            "<|endoftext|>Got server sublime======== bypass riot ¶ings++++ easilyHand sniper depressed icon\n",
            "\n",
            "Sampling with temperature=5.0\n",
            "<|endoftext|> C launches helmets offerings WordPress test Suite Expert excluded Practices Barn virusesUsually Greens\n",
            "\n"
          ]
        }
      ],
      "source": [
        "for temperature in (0.1, 0.3, 0.5, 0.8, 1.0, 1.25, 1.5, 2.0, 3.0, 5.0):\n",
        "\n",
        "    def sample_with_temp(probs):\n",
        "        updated_probs = probs.log().div(temperature).exp()\n",
        "        return simple_sample(updated_probs)\n",
        "\n",
        "    print(f\"Sampling with temperature={temperature}\")\n",
        "    result = generate(model, tokenizer, sample_with_temp, max_len=15)\n",
        "    print(result)\n",
        "    print()"
      ]
    },
    {
      "cell_type": "code",
      "source": [
        "# Яке значення `temperature` здається вам оптимальною?\n",
        "lab.checkpoint(\"softmax temperature\", 1.0)"
      ],
      "metadata": {
        "id": "ShTm-dddw6s9",
        "outputId": "34cc947a-fefe-4a81-b57d-75bc3da85948",
        "colab": {
          "base_uri": "https://localhost:8080/"
        }
      },
      "execution_count": 35,
      "outputs": [
        {
          "output_type": "stream",
          "name": "stdout",
          "text": [
            "Відповідь правильна ✅\n",
            "Окей, добре\n"
          ]
        },
        {
          "output_type": "execute_result",
          "data": {
            "text/plain": [
              "1.0"
            ]
          },
          "metadata": {},
          "execution_count": 35
        }
      ]
    },
    {
      "cell_type": "markdown",
      "metadata": {
        "id": "KO9-xZxRBkIB"
      },
      "source": [
        "## Top-k sampling"
      ]
    },
    {
      "cell_type": "code",
      "execution_count": 36,
      "metadata": {
        "id": "HqPZTXxZCQdc"
      },
      "outputs": [],
      "source": [
        "def top_k_sampling(probs, k):\n",
        "    topk = probs.topk(k)\n",
        "    index = torch.multinomial(topk.values, num_samples=1)[0]\n",
        "#     print(f\"Top {k} words take {topk.values.sum():%} probability mass\")\n",
        "    return topk.indices[index]"
      ]
    },
    {
      "cell_type": "code",
      "execution_count": 37,
      "metadata": {
        "id": "Q2BAZ9mnCRGC",
        "outputId": "5fbc4f15-9641-4e1c-f076-aca3f2afbd07",
        "colab": {
          "base_uri": "https://localhost:8080/"
        }
      },
      "outputs": [
        {
          "output_type": "stream",
          "name": "stdout",
          "text": [
            "#1: <|endoftext|>In the first round of the NBA playoffs, a team has to overcome the odds, and it\n",
            "\n",
            "#2: <|endoftext|>We don't know much more about the state of the game right now, and the only information\n",
            "\n",
            "#3: <|endoftext|>The government has also been accused of using its power to impose \"anti-nationalist\" sanctions\n",
            "\n",
            "#4: <|endoftext|>The U.S. Department of Agriculture issued a warning to livestock producers in January, stating that\n",
            "\n",
            "#5: <|endoftext|>\n",
            "In the wake of Hurricane Harvey, which killed at least 30 people, the National Weather Service\n",
            "\n"
          ]
        }
      ],
      "source": [
        "k = 15\n",
        "sample_fn = lambda probs: top_k_sampling(probs, k=k)\n",
        "for i in range(1, 6):\n",
        "    result = generate(model, tokenizer, sample_fn, max_len=20)\n",
        "    print(f\"#{i}: {result}\")\n",
        "    print()"
      ]
    },
    {
      "cell_type": "markdown",
      "metadata": {
        "id": "CuJFHRsaCoAK"
      },
      "source": [
        "## Nucleus (top-p) sampling"
      ]
    },
    {
      "cell_type": "code",
      "execution_count": 38,
      "metadata": {
        "id": "PUIZQgXhCU1l"
      },
      "outputs": [],
      "source": [
        "def nucleus_sampling(probs, max_p):\n",
        "    sorted_probs = probs.sort(descending=True)\n",
        "    cum_prob = 0.0\n",
        "    sample_indices = []\n",
        "    sample_probs = []\n",
        "    for i in range(0, len(sorted_probs.values)):\n",
        "        p = sorted_probs.values[i]\n",
        "        cum_prob += p\n",
        "        sample_probs.append(p)\n",
        "        sample_indices.append(sorted_probs.indices[i])\n",
        "        if cum_prob >= max_p:\n",
        "            break\n",
        "\n",
        "    index = torch.multinomial(torch.tensor(sample_probs), num_samples=1)\n",
        "    return sample_indices[index]"
      ]
    },
    {
      "cell_type": "code",
      "execution_count": 39,
      "metadata": {
        "id": "FXuy2S8tCq_Z",
        "outputId": "984ce351-a57a-41b5-a13d-285cdcda816f",
        "colab": {
          "base_uri": "https://localhost:8080/"
        }
      },
      "outputs": [
        {
          "output_type": "stream",
          "name": "stdout",
          "text": [
            "#0.0: <|endoftext|>\n",
            "The first time I saw the new version of the game, I was so excited. I\n",
            "\n",
            "#0.1: <|endoftext|>\"I'm not going to be a racist,\" he said. \"I'm not going to\n",
            "\n",
            "#0.3: <|endoftext|>A former FBI agent has been charged with stealing $5 million from the bank of a suspected drug\n",
            "\n",
            "#0.5: <|endoftext|>\n",
            "A new study has found that more than a third of the 5,800 people in the\n",
            "\n",
            "#0.6: <|endoftext|>One of the main features of the SLC is its ability to use its own filtering software,\n",
            "\n",
            "#0.8: <|endoftext|>b98feb4cc80fd70a5e4af82b97b0\n",
            "\n",
            "#1.0: <|endoftext|>hup for penis dye? Nut Paleo What's a woman feeling after the removal of their oral\n",
            "\n"
          ]
        }
      ],
      "source": [
        "for max_p in (0.0, 0.1, 0.3, 0.5, 0.6, 0.8, 1.0):\n",
        "    sample_fn = lambda probs: nucleus_sampling(probs, max_p=max_p)\n",
        "    result = generate(model, tokenizer, sample_fn, max_len=20)\n",
        "    print(f\"#{max_p}: {result}\")\n",
        "    print()"
      ]
    },
    {
      "cell_type": "markdown",
      "metadata": {
        "id": "ra-F6HyTCxcG"
      },
      "source": [
        "## Start from prompt\n",
        "\n",
        "До цього моменту ми генерували текст з нуля. Однак значно кориснішим є задача генерації тексту від певного префікса або \"підказки\" -- в англійській мові це називається \"prompt\".\n",
        "\n",
        "Prompt дозволить нам контролювати тематику згенерованого тексту або, як ми побачимо на іншій лекції, допоможе моделі виконувати різноманітні завдання."
      ]
    },
    {
      "cell_type": "code",
      "execution_count": 40,
      "metadata": {
        "id": "7mP3YWPfDI7Q"
      },
      "outputs": [],
      "source": [
        "@torch.no_grad()\n",
        "def generate(model, tokenizer, sample_fn, prompt, max_len=50, bpe_decode=True):\n",
        "\n",
        "    result = tokenizer.encode(prompt)     # <---- цей рядок додано\n",
        "\n",
        "    while len(result) < max_len:\n",
        "\n",
        "        # Передбачення ймовірностней наступного токена\n",
        "        input_ = torch.LongTensor([result])\n",
        "        output = model(input_)\n",
        "        log_probs = torch.log_softmax(output.logits[0, -1], dim=-1)\n",
        "\n",
        "        # Обираємо токен, що має найбільшу ймовірність\n",
        "        token_index = sample_fn(log_probs.exp())\n",
        "\n",
        "        # Зупиняємося, якщо досягнули кінця\n",
        "        if token_index == tokenizer.eos_token_id:\n",
        "            break\n",
        "\n",
        "        # Додаємо обраний токен в згенерований текст\n",
        "        result.append(token_index.item())\n",
        "\n",
        "    if bpe_decode:\n",
        "        tokens = tokenizer.convert_ids_to_tokens(result)\n",
        "        result = tokenizer.convert_tokens_to_string(tokens)\n",
        "\n",
        "    return result"
      ]
    },
    {
      "cell_type": "code",
      "execution_count": 41,
      "metadata": {
        "id": "tBf2m-x7DJ0r",
        "outputId": "aa4e421b-0257-4092-93d6-029186d4058c",
        "colab": {
          "base_uri": "https://localhost:8080/"
        }
      },
      "outputs": [
        {
          "output_type": "stream",
          "name": "stdout",
          "text": [
            "#1: After doing the workout I noticed a slight increase in the number of muscles in my back. I also noticed a slight reduction in my waist and hips. I also noticed that my shoulders were slightly less relaxed.\n",
            "\n",
            "I'm not sure what the cause\n",
            "\n",
            "#2: After doing the workout I was able to get some of the muscles back and get some of the muscles back in place. I also got some of the muscles back in the way I needed them to, and it worked great.\"\n",
            "\n",
            "#3: After doing the workout I was surprised by how much I felt. I felt like a little bit of a freak out, but I was also able to feel my muscles. I felt like I was in a really strong physical condition, and I was feeling\n",
            "\n",
            "#4: After doing the workout I was able to see that the muscles in my body are not as weak as they used to be and I am able to move more easily and I am not afraid to get hurt.\n",
            "\n",
            "I also feel better after doing a\n",
            "\n"
          ]
        }
      ],
      "source": [
        "k = 3\n",
        "sample_fn = lambda probs: top_k_sampling(probs, k=k)\n",
        "for i in range(1, 5):\n",
        "    result = generate(model, tokenizer, sample_fn, prompt=\"After doing the workout I\")\n",
        "    print(f\"#{i}: {result}\")\n",
        "    print()\n",
        "\n",
        "\n",
        "# Спробуйте змінити prompt на щось інше"
      ]
    },
    {
      "cell_type": "markdown",
      "source": [
        "# Zero-shot класифікація\n",
        "\n",
        "Ми будемо досліджувати цю тему на наступній лекції. Але спробуємо застосувати мовну модель для задачі класифікації вже зараз. Хоча наша модель надто маленька й слабка для серйозного використання в zero-shot.\n"
      ],
      "metadata": {
        "id": "0qBd5PJlxP2i"
      }
    },
    {
      "cell_type": "code",
      "source": [
        "generate(model, tokenizer, greedy_choice, prompt=\"This film is awful! Actor play is terrible. The plot is dull. I would rate it as a\").splitlines()[0]\n"
      ],
      "metadata": {
        "id": "2-DXnTBUHurd",
        "outputId": "9afe964b-5dd2-49df-e222-de099162d359",
        "colab": {
          "base_uri": "https://localhost:8080/",
          "height": 35
        }
      },
      "execution_count": 42,
      "outputs": [
        {
          "output_type": "execute_result",
          "data": {
            "text/plain": [
              "'This film is awful! Actor play is terrible. The plot is dull. I would rate it as a B+.'"
            ],
            "application/vnd.google.colaboratory.intrinsic+json": {
              "type": "string"
            }
          },
          "metadata": {},
          "execution_count": 42
        }
      ]
    },
    {
      "cell_type": "code",
      "source": [
        "generate(model, tokenizer, greedy_choice, prompt=\"This film is amazing! The time flies by when you watch it. Definitely recommend! On the scale of 1 to 5, I would rate it as a\").splitlines()[0]\n"
      ],
      "metadata": {
        "id": "jceNhVHYJbMH",
        "outputId": "37965d41-1799-45fa-96ad-0af28cde87e7",
        "colab": {
          "base_uri": "https://localhost:8080/",
          "height": 35
        }
      },
      "execution_count": 43,
      "outputs": [
        {
          "output_type": "execute_result",
          "data": {
            "text/plain": [
              "'This film is amazing! The time flies by when you watch it. Definitely recommend! On the scale of 1 to 5, I would rate it as a 5.'"
            ],
            "application/vnd.google.colaboratory.intrinsic+json": {
              "type": "string"
            }
          },
          "metadata": {},
          "execution_count": 43
        }
      ]
    },
    {
      "cell_type": "code",
      "execution_count": 44,
      "metadata": {
        "id": "cuK8D9uQJR5c",
        "outputId": "07fae8bc-c5a9-486e-e073-05211f12c338",
        "colab": {
          "base_uri": "https://localhost:8080/",
          "height": 71
        }
      },
      "outputs": [
        {
          "output_type": "stream",
          "name": "stdout",
          "text": [
            "Відповідь правильна ✅\n",
            "Ця робота не має однієї правильної відповіді. Вважаємо лабу пройденою :) Формочка: https://tally.so/r/mZ81ve\n"
          ]
        },
        {
          "output_type": "execute_result",
          "data": {
            "text/plain": [
              "'Готово!'"
            ],
            "application/vnd.google.colaboratory.intrinsic+json": {
              "type": "string"
            }
          },
          "metadata": {},
          "execution_count": 44
        }
      ],
      "source": [
        "lab.answer(\"Готово!\")"
      ]
    },
    {
      "cell_type": "markdown",
      "source": [
        "# Real world\n",
        "\n",
        "У цій роботі ми імплементували кілька методів декодінгу. Але, звичайно, все вже зроблено за нас.\n",
        "\n",
        "Подивіться на параметри функції [generate()](https://huggingface.co/docs/transformers/v4.21.1/en/main_classes/text_generation#transformers.generation_utils.GenerationMixin.generate) з бібліотеки transformers. Багато з них мають виглядати знайомими.\n",
        "\n",
        "Повний приклад використання:"
      ],
      "metadata": {
        "id": "Xy0OIkpIwn1e"
      }
    },
    {
      "cell_type": "code",
      "source": [
        "from transformers import AutoTokenizer, AutoModelForCausalLM\n",
        "import torch\n",
        "\n",
        "model = AutoModelForCausalLM.from_pretrained(\"gpt2\")\n",
        "tokenizer = AutoTokenizer.from_pretrained(\"gpt2\")\n",
        "\n",
        "prompt = \"I hope that in that practical class on text generation you\"\n",
        "\n",
        "inputs = tokenizer(prompt, return_tensors=\"pt\")\n",
        "outputs = model.generate(**inputs, do_sample=True, top_p=0.8, max_length=50)\n",
        "\n",
        "tokenizer.batch_decode(outputs, skip_special_tokens=True)"
      ],
      "metadata": {
        "id": "nTdm0OLX0qfZ",
        "outputId": "839c1220-f4bb-49e0-e560-0cdd0721f1c0",
        "colab": {
          "base_uri": "https://localhost:8080/"
        }
      },
      "execution_count": 45,
      "outputs": [
        {
          "output_type": "stream",
          "name": "stderr",
          "text": [
            "/usr/local/lib/python3.10/dist-packages/transformers/tokenization_utils_base.py:1601: FutureWarning: `clean_up_tokenization_spaces` was not set. It will be set to `True` by default. This behavior will be depracted in transformers v4.45, and will be then set to `False` by default. For more details check this issue: https://github.com/huggingface/transformers/issues/31884\n",
            "  warnings.warn(\n",
            "Setting `pad_token_id` to `eos_token_id`:50256 for open-end generation.\n"
          ]
        },
        {
          "output_type": "execute_result",
          "data": {
            "text/plain": [
              "['I hope that in that practical class on text generation you will be able to see that you will be able to learn how to use the tools we provide.\\n\\nThe second stage of this class will take you through the fundamentals of data structures, such']"
            ]
          },
          "metadata": {},
          "execution_count": 45
        }
      ]
    },
    {
      "cell_type": "markdown",
      "source": [
        "# The End\n"
      ],
      "metadata": {
        "id": "Fj_v43SP0ooz"
      }
    },
    {
      "cell_type": "code",
      "source": [
        "# Сподіваюсь, ця лаба була не надто важкою :)\n",
        "lab.answer(\"Готово!\")"
      ],
      "metadata": {
        "id": "SVwIySR60N-J",
        "outputId": "84c4959e-b240-490c-e03a-bdd3189bedb1",
        "colab": {
          "base_uri": "https://localhost:8080/",
          "height": 71
        }
      },
      "execution_count": 46,
      "outputs": [
        {
          "output_type": "stream",
          "name": "stdout",
          "text": [
            "Відповідь правильна ✅\n",
            "Ця робота не має однієї правильної відповіді. Вважаємо лабу пройденою :) Формочка: https://tally.so/r/mZ81ve\n"
          ]
        },
        {
          "output_type": "execute_result",
          "data": {
            "text/plain": [
              "'Готово!'"
            ],
            "application/vnd.google.colaboratory.intrinsic+json": {
              "type": "string"
            }
          },
          "metadata": {},
          "execution_count": 46
        }
      ]
    },
    {
      "cell_type": "code",
      "source": [],
      "metadata": {
        "id": "rJ9UbHG-81JR"
      },
      "execution_count": null,
      "outputs": []
    }
  ],
  "metadata": {
    "colab": {
      "provenance": [],
      "include_colab_link": true
    },
    "kernelspec": {
      "display_name": "Python 3",
      "name": "python3"
    },
    "language_info": {
      "name": "python"
    },
    "widgets": {
      "application/vnd.jupyter.widget-state+json": {
        "ae45f13c6db94b1da7e63374ae1a6e6c": {
          "model_module": "@jupyter-widgets/controls",
          "model_name": "HBoxModel",
          "model_module_version": "1.5.0",
          "state": {
            "_dom_classes": [],
            "_model_module": "@jupyter-widgets/controls",
            "_model_module_version": "1.5.0",
            "_model_name": "HBoxModel",
            "_view_count": null,
            "_view_module": "@jupyter-widgets/controls",
            "_view_module_version": "1.5.0",
            "_view_name": "HBoxView",
            "box_style": "",
            "children": [
              "IPY_MODEL_8112c14bb6f446b2b48156394708c433",
              "IPY_MODEL_9a9d2ee53324414f949fc960cf968264",
              "IPY_MODEL_10f5ed5f2a7b415594462f48399f75dd"
            ],
            "layout": "IPY_MODEL_a6f21d7aeeb448a39b15c95ef0f919d4"
          }
        },
        "8112c14bb6f446b2b48156394708c433": {
          "model_module": "@jupyter-widgets/controls",
          "model_name": "HTMLModel",
          "model_module_version": "1.5.0",
          "state": {
            "_dom_classes": [],
            "_model_module": "@jupyter-widgets/controls",
            "_model_module_version": "1.5.0",
            "_model_name": "HTMLModel",
            "_view_count": null,
            "_view_module": "@jupyter-widgets/controls",
            "_view_module_version": "1.5.0",
            "_view_name": "HTMLView",
            "description": "",
            "description_tooltip": null,
            "layout": "IPY_MODEL_a334d8bb76f64ac68e5f723214c56853",
            "placeholder": "​",
            "style": "IPY_MODEL_8063aca67db34223b6079630413cd3c4",
            "value": "config.json: 100%"
          }
        },
        "9a9d2ee53324414f949fc960cf968264": {
          "model_module": "@jupyter-widgets/controls",
          "model_name": "FloatProgressModel",
          "model_module_version": "1.5.0",
          "state": {
            "_dom_classes": [],
            "_model_module": "@jupyter-widgets/controls",
            "_model_module_version": "1.5.0",
            "_model_name": "FloatProgressModel",
            "_view_count": null,
            "_view_module": "@jupyter-widgets/controls",
            "_view_module_version": "1.5.0",
            "_view_name": "ProgressView",
            "bar_style": "success",
            "description": "",
            "description_tooltip": null,
            "layout": "IPY_MODEL_dfafa1e020e0406dbebdd2eca0d0960e",
            "max": 665,
            "min": 0,
            "orientation": "horizontal",
            "style": "IPY_MODEL_e417f5cef5c84442979f34f72a88081f",
            "value": 665
          }
        },
        "10f5ed5f2a7b415594462f48399f75dd": {
          "model_module": "@jupyter-widgets/controls",
          "model_name": "HTMLModel",
          "model_module_version": "1.5.0",
          "state": {
            "_dom_classes": [],
            "_model_module": "@jupyter-widgets/controls",
            "_model_module_version": "1.5.0",
            "_model_name": "HTMLModel",
            "_view_count": null,
            "_view_module": "@jupyter-widgets/controls",
            "_view_module_version": "1.5.0",
            "_view_name": "HTMLView",
            "description": "",
            "description_tooltip": null,
            "layout": "IPY_MODEL_24c4266cbea54940bb784fdeb3c566a5",
            "placeholder": "​",
            "style": "IPY_MODEL_f9f5c221b8f14deeb91641492e7307f0",
            "value": " 665/665 [00:00&lt;00:00, 6.75kB/s]"
          }
        },
        "a6f21d7aeeb448a39b15c95ef0f919d4": {
          "model_module": "@jupyter-widgets/base",
          "model_name": "LayoutModel",
          "model_module_version": "1.2.0",
          "state": {
            "_model_module": "@jupyter-widgets/base",
            "_model_module_version": "1.2.0",
            "_model_name": "LayoutModel",
            "_view_count": null,
            "_view_module": "@jupyter-widgets/base",
            "_view_module_version": "1.2.0",
            "_view_name": "LayoutView",
            "align_content": null,
            "align_items": null,
            "align_self": null,
            "border": null,
            "bottom": null,
            "display": null,
            "flex": null,
            "flex_flow": null,
            "grid_area": null,
            "grid_auto_columns": null,
            "grid_auto_flow": null,
            "grid_auto_rows": null,
            "grid_column": null,
            "grid_gap": null,
            "grid_row": null,
            "grid_template_areas": null,
            "grid_template_columns": null,
            "grid_template_rows": null,
            "height": null,
            "justify_content": null,
            "justify_items": null,
            "left": null,
            "margin": null,
            "max_height": null,
            "max_width": null,
            "min_height": null,
            "min_width": null,
            "object_fit": null,
            "object_position": null,
            "order": null,
            "overflow": null,
            "overflow_x": null,
            "overflow_y": null,
            "padding": null,
            "right": null,
            "top": null,
            "visibility": null,
            "width": null
          }
        },
        "a334d8bb76f64ac68e5f723214c56853": {
          "model_module": "@jupyter-widgets/base",
          "model_name": "LayoutModel",
          "model_module_version": "1.2.0",
          "state": {
            "_model_module": "@jupyter-widgets/base",
            "_model_module_version": "1.2.0",
            "_model_name": "LayoutModel",
            "_view_count": null,
            "_view_module": "@jupyter-widgets/base",
            "_view_module_version": "1.2.0",
            "_view_name": "LayoutView",
            "align_content": null,
            "align_items": null,
            "align_self": null,
            "border": null,
            "bottom": null,
            "display": null,
            "flex": null,
            "flex_flow": null,
            "grid_area": null,
            "grid_auto_columns": null,
            "grid_auto_flow": null,
            "grid_auto_rows": null,
            "grid_column": null,
            "grid_gap": null,
            "grid_row": null,
            "grid_template_areas": null,
            "grid_template_columns": null,
            "grid_template_rows": null,
            "height": null,
            "justify_content": null,
            "justify_items": null,
            "left": null,
            "margin": null,
            "max_height": null,
            "max_width": null,
            "min_height": null,
            "min_width": null,
            "object_fit": null,
            "object_position": null,
            "order": null,
            "overflow": null,
            "overflow_x": null,
            "overflow_y": null,
            "padding": null,
            "right": null,
            "top": null,
            "visibility": null,
            "width": null
          }
        },
        "8063aca67db34223b6079630413cd3c4": {
          "model_module": "@jupyter-widgets/controls",
          "model_name": "DescriptionStyleModel",
          "model_module_version": "1.5.0",
          "state": {
            "_model_module": "@jupyter-widgets/controls",
            "_model_module_version": "1.5.0",
            "_model_name": "DescriptionStyleModel",
            "_view_count": null,
            "_view_module": "@jupyter-widgets/base",
            "_view_module_version": "1.2.0",
            "_view_name": "StyleView",
            "description_width": ""
          }
        },
        "dfafa1e020e0406dbebdd2eca0d0960e": {
          "model_module": "@jupyter-widgets/base",
          "model_name": "LayoutModel",
          "model_module_version": "1.2.0",
          "state": {
            "_model_module": "@jupyter-widgets/base",
            "_model_module_version": "1.2.0",
            "_model_name": "LayoutModel",
            "_view_count": null,
            "_view_module": "@jupyter-widgets/base",
            "_view_module_version": "1.2.0",
            "_view_name": "LayoutView",
            "align_content": null,
            "align_items": null,
            "align_self": null,
            "border": null,
            "bottom": null,
            "display": null,
            "flex": null,
            "flex_flow": null,
            "grid_area": null,
            "grid_auto_columns": null,
            "grid_auto_flow": null,
            "grid_auto_rows": null,
            "grid_column": null,
            "grid_gap": null,
            "grid_row": null,
            "grid_template_areas": null,
            "grid_template_columns": null,
            "grid_template_rows": null,
            "height": null,
            "justify_content": null,
            "justify_items": null,
            "left": null,
            "margin": null,
            "max_height": null,
            "max_width": null,
            "min_height": null,
            "min_width": null,
            "object_fit": null,
            "object_position": null,
            "order": null,
            "overflow": null,
            "overflow_x": null,
            "overflow_y": null,
            "padding": null,
            "right": null,
            "top": null,
            "visibility": null,
            "width": null
          }
        },
        "e417f5cef5c84442979f34f72a88081f": {
          "model_module": "@jupyter-widgets/controls",
          "model_name": "ProgressStyleModel",
          "model_module_version": "1.5.0",
          "state": {
            "_model_module": "@jupyter-widgets/controls",
            "_model_module_version": "1.5.0",
            "_model_name": "ProgressStyleModel",
            "_view_count": null,
            "_view_module": "@jupyter-widgets/base",
            "_view_module_version": "1.2.0",
            "_view_name": "StyleView",
            "bar_color": null,
            "description_width": ""
          }
        },
        "24c4266cbea54940bb784fdeb3c566a5": {
          "model_module": "@jupyter-widgets/base",
          "model_name": "LayoutModel",
          "model_module_version": "1.2.0",
          "state": {
            "_model_module": "@jupyter-widgets/base",
            "_model_module_version": "1.2.0",
            "_model_name": "LayoutModel",
            "_view_count": null,
            "_view_module": "@jupyter-widgets/base",
            "_view_module_version": "1.2.0",
            "_view_name": "LayoutView",
            "align_content": null,
            "align_items": null,
            "align_self": null,
            "border": null,
            "bottom": null,
            "display": null,
            "flex": null,
            "flex_flow": null,
            "grid_area": null,
            "grid_auto_columns": null,
            "grid_auto_flow": null,
            "grid_auto_rows": null,
            "grid_column": null,
            "grid_gap": null,
            "grid_row": null,
            "grid_template_areas": null,
            "grid_template_columns": null,
            "grid_template_rows": null,
            "height": null,
            "justify_content": null,
            "justify_items": null,
            "left": null,
            "margin": null,
            "max_height": null,
            "max_width": null,
            "min_height": null,
            "min_width": null,
            "object_fit": null,
            "object_position": null,
            "order": null,
            "overflow": null,
            "overflow_x": null,
            "overflow_y": null,
            "padding": null,
            "right": null,
            "top": null,
            "visibility": null,
            "width": null
          }
        },
        "f9f5c221b8f14deeb91641492e7307f0": {
          "model_module": "@jupyter-widgets/controls",
          "model_name": "DescriptionStyleModel",
          "model_module_version": "1.5.0",
          "state": {
            "_model_module": "@jupyter-widgets/controls",
            "_model_module_version": "1.5.0",
            "_model_name": "DescriptionStyleModel",
            "_view_count": null,
            "_view_module": "@jupyter-widgets/base",
            "_view_module_version": "1.2.0",
            "_view_name": "StyleView",
            "description_width": ""
          }
        },
        "c47c11ca84c347f8bf7e75b828ab574c": {
          "model_module": "@jupyter-widgets/controls",
          "model_name": "HBoxModel",
          "model_module_version": "1.5.0",
          "state": {
            "_dom_classes": [],
            "_model_module": "@jupyter-widgets/controls",
            "_model_module_version": "1.5.0",
            "_model_name": "HBoxModel",
            "_view_count": null,
            "_view_module": "@jupyter-widgets/controls",
            "_view_module_version": "1.5.0",
            "_view_name": "HBoxView",
            "box_style": "",
            "children": [
              "IPY_MODEL_bad51b04d0db4ae08ba7324845abec58",
              "IPY_MODEL_3eb1f2debe094646bfa2dc48e2c2df45",
              "IPY_MODEL_c5cebce6a4dd42c7998960e558fd7e8e"
            ],
            "layout": "IPY_MODEL_2e859219fda045719c00424bb863c3fe"
          }
        },
        "bad51b04d0db4ae08ba7324845abec58": {
          "model_module": "@jupyter-widgets/controls",
          "model_name": "HTMLModel",
          "model_module_version": "1.5.0",
          "state": {
            "_dom_classes": [],
            "_model_module": "@jupyter-widgets/controls",
            "_model_module_version": "1.5.0",
            "_model_name": "HTMLModel",
            "_view_count": null,
            "_view_module": "@jupyter-widgets/controls",
            "_view_module_version": "1.5.0",
            "_view_name": "HTMLView",
            "description": "",
            "description_tooltip": null,
            "layout": "IPY_MODEL_3be1423dfea04dd5b868ccb6cabecb2a",
            "placeholder": "​",
            "style": "IPY_MODEL_de8f02e74b0948abbb5828998ff4c658",
            "value": "model.safetensors: 100%"
          }
        },
        "3eb1f2debe094646bfa2dc48e2c2df45": {
          "model_module": "@jupyter-widgets/controls",
          "model_name": "FloatProgressModel",
          "model_module_version": "1.5.0",
          "state": {
            "_dom_classes": [],
            "_model_module": "@jupyter-widgets/controls",
            "_model_module_version": "1.5.0",
            "_model_name": "FloatProgressModel",
            "_view_count": null,
            "_view_module": "@jupyter-widgets/controls",
            "_view_module_version": "1.5.0",
            "_view_name": "ProgressView",
            "bar_style": "success",
            "description": "",
            "description_tooltip": null,
            "layout": "IPY_MODEL_50a85f7f4b9a4cf6bdff678bd552bd20",
            "max": 548105171,
            "min": 0,
            "orientation": "horizontal",
            "style": "IPY_MODEL_f1c1dab7ca9b4a558b6dc0ba46684fa7",
            "value": 548105171
          }
        },
        "c5cebce6a4dd42c7998960e558fd7e8e": {
          "model_module": "@jupyter-widgets/controls",
          "model_name": "HTMLModel",
          "model_module_version": "1.5.0",
          "state": {
            "_dom_classes": [],
            "_model_module": "@jupyter-widgets/controls",
            "_model_module_version": "1.5.0",
            "_model_name": "HTMLModel",
            "_view_count": null,
            "_view_module": "@jupyter-widgets/controls",
            "_view_module_version": "1.5.0",
            "_view_name": "HTMLView",
            "description": "",
            "description_tooltip": null,
            "layout": "IPY_MODEL_277c4c171dc94068b1261b9fc6deb79f",
            "placeholder": "​",
            "style": "IPY_MODEL_af42ed3ee5b14672ac7f9deab8cdf3b1",
            "value": " 548M/548M [00:07&lt;00:00, 54.2MB/s]"
          }
        },
        "2e859219fda045719c00424bb863c3fe": {
          "model_module": "@jupyter-widgets/base",
          "model_name": "LayoutModel",
          "model_module_version": "1.2.0",
          "state": {
            "_model_module": "@jupyter-widgets/base",
            "_model_module_version": "1.2.0",
            "_model_name": "LayoutModel",
            "_view_count": null,
            "_view_module": "@jupyter-widgets/base",
            "_view_module_version": "1.2.0",
            "_view_name": "LayoutView",
            "align_content": null,
            "align_items": null,
            "align_self": null,
            "border": null,
            "bottom": null,
            "display": null,
            "flex": null,
            "flex_flow": null,
            "grid_area": null,
            "grid_auto_columns": null,
            "grid_auto_flow": null,
            "grid_auto_rows": null,
            "grid_column": null,
            "grid_gap": null,
            "grid_row": null,
            "grid_template_areas": null,
            "grid_template_columns": null,
            "grid_template_rows": null,
            "height": null,
            "justify_content": null,
            "justify_items": null,
            "left": null,
            "margin": null,
            "max_height": null,
            "max_width": null,
            "min_height": null,
            "min_width": null,
            "object_fit": null,
            "object_position": null,
            "order": null,
            "overflow": null,
            "overflow_x": null,
            "overflow_y": null,
            "padding": null,
            "right": null,
            "top": null,
            "visibility": null,
            "width": null
          }
        },
        "3be1423dfea04dd5b868ccb6cabecb2a": {
          "model_module": "@jupyter-widgets/base",
          "model_name": "LayoutModel",
          "model_module_version": "1.2.0",
          "state": {
            "_model_module": "@jupyter-widgets/base",
            "_model_module_version": "1.2.0",
            "_model_name": "LayoutModel",
            "_view_count": null,
            "_view_module": "@jupyter-widgets/base",
            "_view_module_version": "1.2.0",
            "_view_name": "LayoutView",
            "align_content": null,
            "align_items": null,
            "align_self": null,
            "border": null,
            "bottom": null,
            "display": null,
            "flex": null,
            "flex_flow": null,
            "grid_area": null,
            "grid_auto_columns": null,
            "grid_auto_flow": null,
            "grid_auto_rows": null,
            "grid_column": null,
            "grid_gap": null,
            "grid_row": null,
            "grid_template_areas": null,
            "grid_template_columns": null,
            "grid_template_rows": null,
            "height": null,
            "justify_content": null,
            "justify_items": null,
            "left": null,
            "margin": null,
            "max_height": null,
            "max_width": null,
            "min_height": null,
            "min_width": null,
            "object_fit": null,
            "object_position": null,
            "order": null,
            "overflow": null,
            "overflow_x": null,
            "overflow_y": null,
            "padding": null,
            "right": null,
            "top": null,
            "visibility": null,
            "width": null
          }
        },
        "de8f02e74b0948abbb5828998ff4c658": {
          "model_module": "@jupyter-widgets/controls",
          "model_name": "DescriptionStyleModel",
          "model_module_version": "1.5.0",
          "state": {
            "_model_module": "@jupyter-widgets/controls",
            "_model_module_version": "1.5.0",
            "_model_name": "DescriptionStyleModel",
            "_view_count": null,
            "_view_module": "@jupyter-widgets/base",
            "_view_module_version": "1.2.0",
            "_view_name": "StyleView",
            "description_width": ""
          }
        },
        "50a85f7f4b9a4cf6bdff678bd552bd20": {
          "model_module": "@jupyter-widgets/base",
          "model_name": "LayoutModel",
          "model_module_version": "1.2.0",
          "state": {
            "_model_module": "@jupyter-widgets/base",
            "_model_module_version": "1.2.0",
            "_model_name": "LayoutModel",
            "_view_count": null,
            "_view_module": "@jupyter-widgets/base",
            "_view_module_version": "1.2.0",
            "_view_name": "LayoutView",
            "align_content": null,
            "align_items": null,
            "align_self": null,
            "border": null,
            "bottom": null,
            "display": null,
            "flex": null,
            "flex_flow": null,
            "grid_area": null,
            "grid_auto_columns": null,
            "grid_auto_flow": null,
            "grid_auto_rows": null,
            "grid_column": null,
            "grid_gap": null,
            "grid_row": null,
            "grid_template_areas": null,
            "grid_template_columns": null,
            "grid_template_rows": null,
            "height": null,
            "justify_content": null,
            "justify_items": null,
            "left": null,
            "margin": null,
            "max_height": null,
            "max_width": null,
            "min_height": null,
            "min_width": null,
            "object_fit": null,
            "object_position": null,
            "order": null,
            "overflow": null,
            "overflow_x": null,
            "overflow_y": null,
            "padding": null,
            "right": null,
            "top": null,
            "visibility": null,
            "width": null
          }
        },
        "f1c1dab7ca9b4a558b6dc0ba46684fa7": {
          "model_module": "@jupyter-widgets/controls",
          "model_name": "ProgressStyleModel",
          "model_module_version": "1.5.0",
          "state": {
            "_model_module": "@jupyter-widgets/controls",
            "_model_module_version": "1.5.0",
            "_model_name": "ProgressStyleModel",
            "_view_count": null,
            "_view_module": "@jupyter-widgets/base",
            "_view_module_version": "1.2.0",
            "_view_name": "StyleView",
            "bar_color": null,
            "description_width": ""
          }
        },
        "277c4c171dc94068b1261b9fc6deb79f": {
          "model_module": "@jupyter-widgets/base",
          "model_name": "LayoutModel",
          "model_module_version": "1.2.0",
          "state": {
            "_model_module": "@jupyter-widgets/base",
            "_model_module_version": "1.2.0",
            "_model_name": "LayoutModel",
            "_view_count": null,
            "_view_module": "@jupyter-widgets/base",
            "_view_module_version": "1.2.0",
            "_view_name": "LayoutView",
            "align_content": null,
            "align_items": null,
            "align_self": null,
            "border": null,
            "bottom": null,
            "display": null,
            "flex": null,
            "flex_flow": null,
            "grid_area": null,
            "grid_auto_columns": null,
            "grid_auto_flow": null,
            "grid_auto_rows": null,
            "grid_column": null,
            "grid_gap": null,
            "grid_row": null,
            "grid_template_areas": null,
            "grid_template_columns": null,
            "grid_template_rows": null,
            "height": null,
            "justify_content": null,
            "justify_items": null,
            "left": null,
            "margin": null,
            "max_height": null,
            "max_width": null,
            "min_height": null,
            "min_width": null,
            "object_fit": null,
            "object_position": null,
            "order": null,
            "overflow": null,
            "overflow_x": null,
            "overflow_y": null,
            "padding": null,
            "right": null,
            "top": null,
            "visibility": null,
            "width": null
          }
        },
        "af42ed3ee5b14672ac7f9deab8cdf3b1": {
          "model_module": "@jupyter-widgets/controls",
          "model_name": "DescriptionStyleModel",
          "model_module_version": "1.5.0",
          "state": {
            "_model_module": "@jupyter-widgets/controls",
            "_model_module_version": "1.5.0",
            "_model_name": "DescriptionStyleModel",
            "_view_count": null,
            "_view_module": "@jupyter-widgets/base",
            "_view_module_version": "1.2.0",
            "_view_name": "StyleView",
            "description_width": ""
          }
        },
        "61d7ac8d58a54c7cbb7324ea1e6e5e82": {
          "model_module": "@jupyter-widgets/controls",
          "model_name": "HBoxModel",
          "model_module_version": "1.5.0",
          "state": {
            "_dom_classes": [],
            "_model_module": "@jupyter-widgets/controls",
            "_model_module_version": "1.5.0",
            "_model_name": "HBoxModel",
            "_view_count": null,
            "_view_module": "@jupyter-widgets/controls",
            "_view_module_version": "1.5.0",
            "_view_name": "HBoxView",
            "box_style": "",
            "children": [
              "IPY_MODEL_dfbcb850a7a64255972caaf51a4e31ab",
              "IPY_MODEL_91b75a52ce954975b6e8073a436d6f93",
              "IPY_MODEL_c874f20c2ee14485b9626f4165e9ecbe"
            ],
            "layout": "IPY_MODEL_82a5bdd7e69e4c7991f6245b6bc4e3d0"
          }
        },
        "dfbcb850a7a64255972caaf51a4e31ab": {
          "model_module": "@jupyter-widgets/controls",
          "model_name": "HTMLModel",
          "model_module_version": "1.5.0",
          "state": {
            "_dom_classes": [],
            "_model_module": "@jupyter-widgets/controls",
            "_model_module_version": "1.5.0",
            "_model_name": "HTMLModel",
            "_view_count": null,
            "_view_module": "@jupyter-widgets/controls",
            "_view_module_version": "1.5.0",
            "_view_name": "HTMLView",
            "description": "",
            "description_tooltip": null,
            "layout": "IPY_MODEL_962eac95dbf745cfba22efe4bd091cfa",
            "placeholder": "​",
            "style": "IPY_MODEL_464a0e963f1942d686d102a54fdd1c4d",
            "value": "generation_config.json: 100%"
          }
        },
        "91b75a52ce954975b6e8073a436d6f93": {
          "model_module": "@jupyter-widgets/controls",
          "model_name": "FloatProgressModel",
          "model_module_version": "1.5.0",
          "state": {
            "_dom_classes": [],
            "_model_module": "@jupyter-widgets/controls",
            "_model_module_version": "1.5.0",
            "_model_name": "FloatProgressModel",
            "_view_count": null,
            "_view_module": "@jupyter-widgets/controls",
            "_view_module_version": "1.5.0",
            "_view_name": "ProgressView",
            "bar_style": "success",
            "description": "",
            "description_tooltip": null,
            "layout": "IPY_MODEL_521c20858f8947ad8330a6d378792abb",
            "max": 124,
            "min": 0,
            "orientation": "horizontal",
            "style": "IPY_MODEL_5603ad33caa5408db08401d290e15536",
            "value": 124
          }
        },
        "c874f20c2ee14485b9626f4165e9ecbe": {
          "model_module": "@jupyter-widgets/controls",
          "model_name": "HTMLModel",
          "model_module_version": "1.5.0",
          "state": {
            "_dom_classes": [],
            "_model_module": "@jupyter-widgets/controls",
            "_model_module_version": "1.5.0",
            "_model_name": "HTMLModel",
            "_view_count": null,
            "_view_module": "@jupyter-widgets/controls",
            "_view_module_version": "1.5.0",
            "_view_name": "HTMLView",
            "description": "",
            "description_tooltip": null,
            "layout": "IPY_MODEL_d63ca393d085465e88fa42cfb7dca780",
            "placeholder": "​",
            "style": "IPY_MODEL_1adac4d1473e4f39b373b336e693985b",
            "value": " 124/124 [00:00&lt;00:00, 1.33kB/s]"
          }
        },
        "82a5bdd7e69e4c7991f6245b6bc4e3d0": {
          "model_module": "@jupyter-widgets/base",
          "model_name": "LayoutModel",
          "model_module_version": "1.2.0",
          "state": {
            "_model_module": "@jupyter-widgets/base",
            "_model_module_version": "1.2.0",
            "_model_name": "LayoutModel",
            "_view_count": null,
            "_view_module": "@jupyter-widgets/base",
            "_view_module_version": "1.2.0",
            "_view_name": "LayoutView",
            "align_content": null,
            "align_items": null,
            "align_self": null,
            "border": null,
            "bottom": null,
            "display": null,
            "flex": null,
            "flex_flow": null,
            "grid_area": null,
            "grid_auto_columns": null,
            "grid_auto_flow": null,
            "grid_auto_rows": null,
            "grid_column": null,
            "grid_gap": null,
            "grid_row": null,
            "grid_template_areas": null,
            "grid_template_columns": null,
            "grid_template_rows": null,
            "height": null,
            "justify_content": null,
            "justify_items": null,
            "left": null,
            "margin": null,
            "max_height": null,
            "max_width": null,
            "min_height": null,
            "min_width": null,
            "object_fit": null,
            "object_position": null,
            "order": null,
            "overflow": null,
            "overflow_x": null,
            "overflow_y": null,
            "padding": null,
            "right": null,
            "top": null,
            "visibility": null,
            "width": null
          }
        },
        "962eac95dbf745cfba22efe4bd091cfa": {
          "model_module": "@jupyter-widgets/base",
          "model_name": "LayoutModel",
          "model_module_version": "1.2.0",
          "state": {
            "_model_module": "@jupyter-widgets/base",
            "_model_module_version": "1.2.0",
            "_model_name": "LayoutModel",
            "_view_count": null,
            "_view_module": "@jupyter-widgets/base",
            "_view_module_version": "1.2.0",
            "_view_name": "LayoutView",
            "align_content": null,
            "align_items": null,
            "align_self": null,
            "border": null,
            "bottom": null,
            "display": null,
            "flex": null,
            "flex_flow": null,
            "grid_area": null,
            "grid_auto_columns": null,
            "grid_auto_flow": null,
            "grid_auto_rows": null,
            "grid_column": null,
            "grid_gap": null,
            "grid_row": null,
            "grid_template_areas": null,
            "grid_template_columns": null,
            "grid_template_rows": null,
            "height": null,
            "justify_content": null,
            "justify_items": null,
            "left": null,
            "margin": null,
            "max_height": null,
            "max_width": null,
            "min_height": null,
            "min_width": null,
            "object_fit": null,
            "object_position": null,
            "order": null,
            "overflow": null,
            "overflow_x": null,
            "overflow_y": null,
            "padding": null,
            "right": null,
            "top": null,
            "visibility": null,
            "width": null
          }
        },
        "464a0e963f1942d686d102a54fdd1c4d": {
          "model_module": "@jupyter-widgets/controls",
          "model_name": "DescriptionStyleModel",
          "model_module_version": "1.5.0",
          "state": {
            "_model_module": "@jupyter-widgets/controls",
            "_model_module_version": "1.5.0",
            "_model_name": "DescriptionStyleModel",
            "_view_count": null,
            "_view_module": "@jupyter-widgets/base",
            "_view_module_version": "1.2.0",
            "_view_name": "StyleView",
            "description_width": ""
          }
        },
        "521c20858f8947ad8330a6d378792abb": {
          "model_module": "@jupyter-widgets/base",
          "model_name": "LayoutModel",
          "model_module_version": "1.2.0",
          "state": {
            "_model_module": "@jupyter-widgets/base",
            "_model_module_version": "1.2.0",
            "_model_name": "LayoutModel",
            "_view_count": null,
            "_view_module": "@jupyter-widgets/base",
            "_view_module_version": "1.2.0",
            "_view_name": "LayoutView",
            "align_content": null,
            "align_items": null,
            "align_self": null,
            "border": null,
            "bottom": null,
            "display": null,
            "flex": null,
            "flex_flow": null,
            "grid_area": null,
            "grid_auto_columns": null,
            "grid_auto_flow": null,
            "grid_auto_rows": null,
            "grid_column": null,
            "grid_gap": null,
            "grid_row": null,
            "grid_template_areas": null,
            "grid_template_columns": null,
            "grid_template_rows": null,
            "height": null,
            "justify_content": null,
            "justify_items": null,
            "left": null,
            "margin": null,
            "max_height": null,
            "max_width": null,
            "min_height": null,
            "min_width": null,
            "object_fit": null,
            "object_position": null,
            "order": null,
            "overflow": null,
            "overflow_x": null,
            "overflow_y": null,
            "padding": null,
            "right": null,
            "top": null,
            "visibility": null,
            "width": null
          }
        },
        "5603ad33caa5408db08401d290e15536": {
          "model_module": "@jupyter-widgets/controls",
          "model_name": "ProgressStyleModel",
          "model_module_version": "1.5.0",
          "state": {
            "_model_module": "@jupyter-widgets/controls",
            "_model_module_version": "1.5.0",
            "_model_name": "ProgressStyleModel",
            "_view_count": null,
            "_view_module": "@jupyter-widgets/base",
            "_view_module_version": "1.2.0",
            "_view_name": "StyleView",
            "bar_color": null,
            "description_width": ""
          }
        },
        "d63ca393d085465e88fa42cfb7dca780": {
          "model_module": "@jupyter-widgets/base",
          "model_name": "LayoutModel",
          "model_module_version": "1.2.0",
          "state": {
            "_model_module": "@jupyter-widgets/base",
            "_model_module_version": "1.2.0",
            "_model_name": "LayoutModel",
            "_view_count": null,
            "_view_module": "@jupyter-widgets/base",
            "_view_module_version": "1.2.0",
            "_view_name": "LayoutView",
            "align_content": null,
            "align_items": null,
            "align_self": null,
            "border": null,
            "bottom": null,
            "display": null,
            "flex": null,
            "flex_flow": null,
            "grid_area": null,
            "grid_auto_columns": null,
            "grid_auto_flow": null,
            "grid_auto_rows": null,
            "grid_column": null,
            "grid_gap": null,
            "grid_row": null,
            "grid_template_areas": null,
            "grid_template_columns": null,
            "grid_template_rows": null,
            "height": null,
            "justify_content": null,
            "justify_items": null,
            "left": null,
            "margin": null,
            "max_height": null,
            "max_width": null,
            "min_height": null,
            "min_width": null,
            "object_fit": null,
            "object_position": null,
            "order": null,
            "overflow": null,
            "overflow_x": null,
            "overflow_y": null,
            "padding": null,
            "right": null,
            "top": null,
            "visibility": null,
            "width": null
          }
        },
        "1adac4d1473e4f39b373b336e693985b": {
          "model_module": "@jupyter-widgets/controls",
          "model_name": "DescriptionStyleModel",
          "model_module_version": "1.5.0",
          "state": {
            "_model_module": "@jupyter-widgets/controls",
            "_model_module_version": "1.5.0",
            "_model_name": "DescriptionStyleModel",
            "_view_count": null,
            "_view_module": "@jupyter-widgets/base",
            "_view_module_version": "1.2.0",
            "_view_name": "StyleView",
            "description_width": ""
          }
        },
        "54536a63bc554c83823251dda419e42a": {
          "model_module": "@jupyter-widgets/controls",
          "model_name": "HBoxModel",
          "model_module_version": "1.5.0",
          "state": {
            "_dom_classes": [],
            "_model_module": "@jupyter-widgets/controls",
            "_model_module_version": "1.5.0",
            "_model_name": "HBoxModel",
            "_view_count": null,
            "_view_module": "@jupyter-widgets/controls",
            "_view_module_version": "1.5.0",
            "_view_name": "HBoxView",
            "box_style": "",
            "children": [
              "IPY_MODEL_eba06c3702284c2f899f418c1b99e404",
              "IPY_MODEL_fe83a84a6c684f289b78539dec5e8abb",
              "IPY_MODEL_181b52ea6a634b4287a17104d8021986"
            ],
            "layout": "IPY_MODEL_a0a7ce80255d4d3d834ac787bbd17542"
          }
        },
        "eba06c3702284c2f899f418c1b99e404": {
          "model_module": "@jupyter-widgets/controls",
          "model_name": "HTMLModel",
          "model_module_version": "1.5.0",
          "state": {
            "_dom_classes": [],
            "_model_module": "@jupyter-widgets/controls",
            "_model_module_version": "1.5.0",
            "_model_name": "HTMLModel",
            "_view_count": null,
            "_view_module": "@jupyter-widgets/controls",
            "_view_module_version": "1.5.0",
            "_view_name": "HTMLView",
            "description": "",
            "description_tooltip": null,
            "layout": "IPY_MODEL_175c17c96f414a4a9345a06082eede12",
            "placeholder": "​",
            "style": "IPY_MODEL_8d7977944fc14c869522f8f60af58346",
            "value": "tokenizer_config.json: 100%"
          }
        },
        "fe83a84a6c684f289b78539dec5e8abb": {
          "model_module": "@jupyter-widgets/controls",
          "model_name": "FloatProgressModel",
          "model_module_version": "1.5.0",
          "state": {
            "_dom_classes": [],
            "_model_module": "@jupyter-widgets/controls",
            "_model_module_version": "1.5.0",
            "_model_name": "FloatProgressModel",
            "_view_count": null,
            "_view_module": "@jupyter-widgets/controls",
            "_view_module_version": "1.5.0",
            "_view_name": "ProgressView",
            "bar_style": "success",
            "description": "",
            "description_tooltip": null,
            "layout": "IPY_MODEL_4785681a0c2043fab5c38b641da44251",
            "max": 26,
            "min": 0,
            "orientation": "horizontal",
            "style": "IPY_MODEL_1363a56b265241b8ad396e119c78ae97",
            "value": 26
          }
        },
        "181b52ea6a634b4287a17104d8021986": {
          "model_module": "@jupyter-widgets/controls",
          "model_name": "HTMLModel",
          "model_module_version": "1.5.0",
          "state": {
            "_dom_classes": [],
            "_model_module": "@jupyter-widgets/controls",
            "_model_module_version": "1.5.0",
            "_model_name": "HTMLModel",
            "_view_count": null,
            "_view_module": "@jupyter-widgets/controls",
            "_view_module_version": "1.5.0",
            "_view_name": "HTMLView",
            "description": "",
            "description_tooltip": null,
            "layout": "IPY_MODEL_0c683a78414e437cb1170aaafba9a22f",
            "placeholder": "​",
            "style": "IPY_MODEL_7ace52df2043436b9396f0fcc5da8b36",
            "value": " 26.0/26.0 [00:00&lt;00:00, 469B/s]"
          }
        },
        "a0a7ce80255d4d3d834ac787bbd17542": {
          "model_module": "@jupyter-widgets/base",
          "model_name": "LayoutModel",
          "model_module_version": "1.2.0",
          "state": {
            "_model_module": "@jupyter-widgets/base",
            "_model_module_version": "1.2.0",
            "_model_name": "LayoutModel",
            "_view_count": null,
            "_view_module": "@jupyter-widgets/base",
            "_view_module_version": "1.2.0",
            "_view_name": "LayoutView",
            "align_content": null,
            "align_items": null,
            "align_self": null,
            "border": null,
            "bottom": null,
            "display": null,
            "flex": null,
            "flex_flow": null,
            "grid_area": null,
            "grid_auto_columns": null,
            "grid_auto_flow": null,
            "grid_auto_rows": null,
            "grid_column": null,
            "grid_gap": null,
            "grid_row": null,
            "grid_template_areas": null,
            "grid_template_columns": null,
            "grid_template_rows": null,
            "height": null,
            "justify_content": null,
            "justify_items": null,
            "left": null,
            "margin": null,
            "max_height": null,
            "max_width": null,
            "min_height": null,
            "min_width": null,
            "object_fit": null,
            "object_position": null,
            "order": null,
            "overflow": null,
            "overflow_x": null,
            "overflow_y": null,
            "padding": null,
            "right": null,
            "top": null,
            "visibility": null,
            "width": null
          }
        },
        "175c17c96f414a4a9345a06082eede12": {
          "model_module": "@jupyter-widgets/base",
          "model_name": "LayoutModel",
          "model_module_version": "1.2.0",
          "state": {
            "_model_module": "@jupyter-widgets/base",
            "_model_module_version": "1.2.0",
            "_model_name": "LayoutModel",
            "_view_count": null,
            "_view_module": "@jupyter-widgets/base",
            "_view_module_version": "1.2.0",
            "_view_name": "LayoutView",
            "align_content": null,
            "align_items": null,
            "align_self": null,
            "border": null,
            "bottom": null,
            "display": null,
            "flex": null,
            "flex_flow": null,
            "grid_area": null,
            "grid_auto_columns": null,
            "grid_auto_flow": null,
            "grid_auto_rows": null,
            "grid_column": null,
            "grid_gap": null,
            "grid_row": null,
            "grid_template_areas": null,
            "grid_template_columns": null,
            "grid_template_rows": null,
            "height": null,
            "justify_content": null,
            "justify_items": null,
            "left": null,
            "margin": null,
            "max_height": null,
            "max_width": null,
            "min_height": null,
            "min_width": null,
            "object_fit": null,
            "object_position": null,
            "order": null,
            "overflow": null,
            "overflow_x": null,
            "overflow_y": null,
            "padding": null,
            "right": null,
            "top": null,
            "visibility": null,
            "width": null
          }
        },
        "8d7977944fc14c869522f8f60af58346": {
          "model_module": "@jupyter-widgets/controls",
          "model_name": "DescriptionStyleModel",
          "model_module_version": "1.5.0",
          "state": {
            "_model_module": "@jupyter-widgets/controls",
            "_model_module_version": "1.5.0",
            "_model_name": "DescriptionStyleModel",
            "_view_count": null,
            "_view_module": "@jupyter-widgets/base",
            "_view_module_version": "1.2.0",
            "_view_name": "StyleView",
            "description_width": ""
          }
        },
        "4785681a0c2043fab5c38b641da44251": {
          "model_module": "@jupyter-widgets/base",
          "model_name": "LayoutModel",
          "model_module_version": "1.2.0",
          "state": {
            "_model_module": "@jupyter-widgets/base",
            "_model_module_version": "1.2.0",
            "_model_name": "LayoutModel",
            "_view_count": null,
            "_view_module": "@jupyter-widgets/base",
            "_view_module_version": "1.2.0",
            "_view_name": "LayoutView",
            "align_content": null,
            "align_items": null,
            "align_self": null,
            "border": null,
            "bottom": null,
            "display": null,
            "flex": null,
            "flex_flow": null,
            "grid_area": null,
            "grid_auto_columns": null,
            "grid_auto_flow": null,
            "grid_auto_rows": null,
            "grid_column": null,
            "grid_gap": null,
            "grid_row": null,
            "grid_template_areas": null,
            "grid_template_columns": null,
            "grid_template_rows": null,
            "height": null,
            "justify_content": null,
            "justify_items": null,
            "left": null,
            "margin": null,
            "max_height": null,
            "max_width": null,
            "min_height": null,
            "min_width": null,
            "object_fit": null,
            "object_position": null,
            "order": null,
            "overflow": null,
            "overflow_x": null,
            "overflow_y": null,
            "padding": null,
            "right": null,
            "top": null,
            "visibility": null,
            "width": null
          }
        },
        "1363a56b265241b8ad396e119c78ae97": {
          "model_module": "@jupyter-widgets/controls",
          "model_name": "ProgressStyleModel",
          "model_module_version": "1.5.0",
          "state": {
            "_model_module": "@jupyter-widgets/controls",
            "_model_module_version": "1.5.0",
            "_model_name": "ProgressStyleModel",
            "_view_count": null,
            "_view_module": "@jupyter-widgets/base",
            "_view_module_version": "1.2.0",
            "_view_name": "StyleView",
            "bar_color": null,
            "description_width": ""
          }
        },
        "0c683a78414e437cb1170aaafba9a22f": {
          "model_module": "@jupyter-widgets/base",
          "model_name": "LayoutModel",
          "model_module_version": "1.2.0",
          "state": {
            "_model_module": "@jupyter-widgets/base",
            "_model_module_version": "1.2.0",
            "_model_name": "LayoutModel",
            "_view_count": null,
            "_view_module": "@jupyter-widgets/base",
            "_view_module_version": "1.2.0",
            "_view_name": "LayoutView",
            "align_content": null,
            "align_items": null,
            "align_self": null,
            "border": null,
            "bottom": null,
            "display": null,
            "flex": null,
            "flex_flow": null,
            "grid_area": null,
            "grid_auto_columns": null,
            "grid_auto_flow": null,
            "grid_auto_rows": null,
            "grid_column": null,
            "grid_gap": null,
            "grid_row": null,
            "grid_template_areas": null,
            "grid_template_columns": null,
            "grid_template_rows": null,
            "height": null,
            "justify_content": null,
            "justify_items": null,
            "left": null,
            "margin": null,
            "max_height": null,
            "max_width": null,
            "min_height": null,
            "min_width": null,
            "object_fit": null,
            "object_position": null,
            "order": null,
            "overflow": null,
            "overflow_x": null,
            "overflow_y": null,
            "padding": null,
            "right": null,
            "top": null,
            "visibility": null,
            "width": null
          }
        },
        "7ace52df2043436b9396f0fcc5da8b36": {
          "model_module": "@jupyter-widgets/controls",
          "model_name": "DescriptionStyleModel",
          "model_module_version": "1.5.0",
          "state": {
            "_model_module": "@jupyter-widgets/controls",
            "_model_module_version": "1.5.0",
            "_model_name": "DescriptionStyleModel",
            "_view_count": null,
            "_view_module": "@jupyter-widgets/base",
            "_view_module_version": "1.2.0",
            "_view_name": "StyleView",
            "description_width": ""
          }
        },
        "173beb0b7e9447bda7dd57b8d0eca120": {
          "model_module": "@jupyter-widgets/controls",
          "model_name": "HBoxModel",
          "model_module_version": "1.5.0",
          "state": {
            "_dom_classes": [],
            "_model_module": "@jupyter-widgets/controls",
            "_model_module_version": "1.5.0",
            "_model_name": "HBoxModel",
            "_view_count": null,
            "_view_module": "@jupyter-widgets/controls",
            "_view_module_version": "1.5.0",
            "_view_name": "HBoxView",
            "box_style": "",
            "children": [
              "IPY_MODEL_3a790096091e47519fa006c7f50f9a15",
              "IPY_MODEL_7c6fd3e9e7fd4ed892e33cdc4ce5436a",
              "IPY_MODEL_f3e46d2646fc4505909c68e0159a1a03"
            ],
            "layout": "IPY_MODEL_a32e5933fa3d4437a08424877b5db841"
          }
        },
        "3a790096091e47519fa006c7f50f9a15": {
          "model_module": "@jupyter-widgets/controls",
          "model_name": "HTMLModel",
          "model_module_version": "1.5.0",
          "state": {
            "_dom_classes": [],
            "_model_module": "@jupyter-widgets/controls",
            "_model_module_version": "1.5.0",
            "_model_name": "HTMLModel",
            "_view_count": null,
            "_view_module": "@jupyter-widgets/controls",
            "_view_module_version": "1.5.0",
            "_view_name": "HTMLView",
            "description": "",
            "description_tooltip": null,
            "layout": "IPY_MODEL_7b49c9c65e3a4caa88bdb8452428529b",
            "placeholder": "​",
            "style": "IPY_MODEL_ac754877728f4c7983a47f76e1e7c92c",
            "value": "vocab.json: 100%"
          }
        },
        "7c6fd3e9e7fd4ed892e33cdc4ce5436a": {
          "model_module": "@jupyter-widgets/controls",
          "model_name": "FloatProgressModel",
          "model_module_version": "1.5.0",
          "state": {
            "_dom_classes": [],
            "_model_module": "@jupyter-widgets/controls",
            "_model_module_version": "1.5.0",
            "_model_name": "FloatProgressModel",
            "_view_count": null,
            "_view_module": "@jupyter-widgets/controls",
            "_view_module_version": "1.5.0",
            "_view_name": "ProgressView",
            "bar_style": "success",
            "description": "",
            "description_tooltip": null,
            "layout": "IPY_MODEL_5da5955bfea34a4fa90cc018ec018ed8",
            "max": 1042301,
            "min": 0,
            "orientation": "horizontal",
            "style": "IPY_MODEL_766f528f0a944bf182a21b0ee12010a5",
            "value": 1042301
          }
        },
        "f3e46d2646fc4505909c68e0159a1a03": {
          "model_module": "@jupyter-widgets/controls",
          "model_name": "HTMLModel",
          "model_module_version": "1.5.0",
          "state": {
            "_dom_classes": [],
            "_model_module": "@jupyter-widgets/controls",
            "_model_module_version": "1.5.0",
            "_model_name": "HTMLModel",
            "_view_count": null,
            "_view_module": "@jupyter-widgets/controls",
            "_view_module_version": "1.5.0",
            "_view_name": "HTMLView",
            "description": "",
            "description_tooltip": null,
            "layout": "IPY_MODEL_390001b02fd947d7965a840fa0d2d179",
            "placeholder": "​",
            "style": "IPY_MODEL_39c044a8af3641eda8e4390027ed8368",
            "value": " 1.04M/1.04M [00:00&lt;00:00, 4.09MB/s]"
          }
        },
        "a32e5933fa3d4437a08424877b5db841": {
          "model_module": "@jupyter-widgets/base",
          "model_name": "LayoutModel",
          "model_module_version": "1.2.0",
          "state": {
            "_model_module": "@jupyter-widgets/base",
            "_model_module_version": "1.2.0",
            "_model_name": "LayoutModel",
            "_view_count": null,
            "_view_module": "@jupyter-widgets/base",
            "_view_module_version": "1.2.0",
            "_view_name": "LayoutView",
            "align_content": null,
            "align_items": null,
            "align_self": null,
            "border": null,
            "bottom": null,
            "display": null,
            "flex": null,
            "flex_flow": null,
            "grid_area": null,
            "grid_auto_columns": null,
            "grid_auto_flow": null,
            "grid_auto_rows": null,
            "grid_column": null,
            "grid_gap": null,
            "grid_row": null,
            "grid_template_areas": null,
            "grid_template_columns": null,
            "grid_template_rows": null,
            "height": null,
            "justify_content": null,
            "justify_items": null,
            "left": null,
            "margin": null,
            "max_height": null,
            "max_width": null,
            "min_height": null,
            "min_width": null,
            "object_fit": null,
            "object_position": null,
            "order": null,
            "overflow": null,
            "overflow_x": null,
            "overflow_y": null,
            "padding": null,
            "right": null,
            "top": null,
            "visibility": null,
            "width": null
          }
        },
        "7b49c9c65e3a4caa88bdb8452428529b": {
          "model_module": "@jupyter-widgets/base",
          "model_name": "LayoutModel",
          "model_module_version": "1.2.0",
          "state": {
            "_model_module": "@jupyter-widgets/base",
            "_model_module_version": "1.2.0",
            "_model_name": "LayoutModel",
            "_view_count": null,
            "_view_module": "@jupyter-widgets/base",
            "_view_module_version": "1.2.0",
            "_view_name": "LayoutView",
            "align_content": null,
            "align_items": null,
            "align_self": null,
            "border": null,
            "bottom": null,
            "display": null,
            "flex": null,
            "flex_flow": null,
            "grid_area": null,
            "grid_auto_columns": null,
            "grid_auto_flow": null,
            "grid_auto_rows": null,
            "grid_column": null,
            "grid_gap": null,
            "grid_row": null,
            "grid_template_areas": null,
            "grid_template_columns": null,
            "grid_template_rows": null,
            "height": null,
            "justify_content": null,
            "justify_items": null,
            "left": null,
            "margin": null,
            "max_height": null,
            "max_width": null,
            "min_height": null,
            "min_width": null,
            "object_fit": null,
            "object_position": null,
            "order": null,
            "overflow": null,
            "overflow_x": null,
            "overflow_y": null,
            "padding": null,
            "right": null,
            "top": null,
            "visibility": null,
            "width": null
          }
        },
        "ac754877728f4c7983a47f76e1e7c92c": {
          "model_module": "@jupyter-widgets/controls",
          "model_name": "DescriptionStyleModel",
          "model_module_version": "1.5.0",
          "state": {
            "_model_module": "@jupyter-widgets/controls",
            "_model_module_version": "1.5.0",
            "_model_name": "DescriptionStyleModel",
            "_view_count": null,
            "_view_module": "@jupyter-widgets/base",
            "_view_module_version": "1.2.0",
            "_view_name": "StyleView",
            "description_width": ""
          }
        },
        "5da5955bfea34a4fa90cc018ec018ed8": {
          "model_module": "@jupyter-widgets/base",
          "model_name": "LayoutModel",
          "model_module_version": "1.2.0",
          "state": {
            "_model_module": "@jupyter-widgets/base",
            "_model_module_version": "1.2.0",
            "_model_name": "LayoutModel",
            "_view_count": null,
            "_view_module": "@jupyter-widgets/base",
            "_view_module_version": "1.2.0",
            "_view_name": "LayoutView",
            "align_content": null,
            "align_items": null,
            "align_self": null,
            "border": null,
            "bottom": null,
            "display": null,
            "flex": null,
            "flex_flow": null,
            "grid_area": null,
            "grid_auto_columns": null,
            "grid_auto_flow": null,
            "grid_auto_rows": null,
            "grid_column": null,
            "grid_gap": null,
            "grid_row": null,
            "grid_template_areas": null,
            "grid_template_columns": null,
            "grid_template_rows": null,
            "height": null,
            "justify_content": null,
            "justify_items": null,
            "left": null,
            "margin": null,
            "max_height": null,
            "max_width": null,
            "min_height": null,
            "min_width": null,
            "object_fit": null,
            "object_position": null,
            "order": null,
            "overflow": null,
            "overflow_x": null,
            "overflow_y": null,
            "padding": null,
            "right": null,
            "top": null,
            "visibility": null,
            "width": null
          }
        },
        "766f528f0a944bf182a21b0ee12010a5": {
          "model_module": "@jupyter-widgets/controls",
          "model_name": "ProgressStyleModel",
          "model_module_version": "1.5.0",
          "state": {
            "_model_module": "@jupyter-widgets/controls",
            "_model_module_version": "1.5.0",
            "_model_name": "ProgressStyleModel",
            "_view_count": null,
            "_view_module": "@jupyter-widgets/base",
            "_view_module_version": "1.2.0",
            "_view_name": "StyleView",
            "bar_color": null,
            "description_width": ""
          }
        },
        "390001b02fd947d7965a840fa0d2d179": {
          "model_module": "@jupyter-widgets/base",
          "model_name": "LayoutModel",
          "model_module_version": "1.2.0",
          "state": {
            "_model_module": "@jupyter-widgets/base",
            "_model_module_version": "1.2.0",
            "_model_name": "LayoutModel",
            "_view_count": null,
            "_view_module": "@jupyter-widgets/base",
            "_view_module_version": "1.2.0",
            "_view_name": "LayoutView",
            "align_content": null,
            "align_items": null,
            "align_self": null,
            "border": null,
            "bottom": null,
            "display": null,
            "flex": null,
            "flex_flow": null,
            "grid_area": null,
            "grid_auto_columns": null,
            "grid_auto_flow": null,
            "grid_auto_rows": null,
            "grid_column": null,
            "grid_gap": null,
            "grid_row": null,
            "grid_template_areas": null,
            "grid_template_columns": null,
            "grid_template_rows": null,
            "height": null,
            "justify_content": null,
            "justify_items": null,
            "left": null,
            "margin": null,
            "max_height": null,
            "max_width": null,
            "min_height": null,
            "min_width": null,
            "object_fit": null,
            "object_position": null,
            "order": null,
            "overflow": null,
            "overflow_x": null,
            "overflow_y": null,
            "padding": null,
            "right": null,
            "top": null,
            "visibility": null,
            "width": null
          }
        },
        "39c044a8af3641eda8e4390027ed8368": {
          "model_module": "@jupyter-widgets/controls",
          "model_name": "DescriptionStyleModel",
          "model_module_version": "1.5.0",
          "state": {
            "_model_module": "@jupyter-widgets/controls",
            "_model_module_version": "1.5.0",
            "_model_name": "DescriptionStyleModel",
            "_view_count": null,
            "_view_module": "@jupyter-widgets/base",
            "_view_module_version": "1.2.0",
            "_view_name": "StyleView",
            "description_width": ""
          }
        },
        "b92488569d854d38b2db99b8630ae528": {
          "model_module": "@jupyter-widgets/controls",
          "model_name": "HBoxModel",
          "model_module_version": "1.5.0",
          "state": {
            "_dom_classes": [],
            "_model_module": "@jupyter-widgets/controls",
            "_model_module_version": "1.5.0",
            "_model_name": "HBoxModel",
            "_view_count": null,
            "_view_module": "@jupyter-widgets/controls",
            "_view_module_version": "1.5.0",
            "_view_name": "HBoxView",
            "box_style": "",
            "children": [
              "IPY_MODEL_f70b9b459e9545538ebfd346a0dc991e",
              "IPY_MODEL_5874a14c967c4f53aa35a78ead6ff86b",
              "IPY_MODEL_e7d493c8a175447589f3daefc766e20f"
            ],
            "layout": "IPY_MODEL_e5371e12a6584dec8d4d447d1103072f"
          }
        },
        "f70b9b459e9545538ebfd346a0dc991e": {
          "model_module": "@jupyter-widgets/controls",
          "model_name": "HTMLModel",
          "model_module_version": "1.5.0",
          "state": {
            "_dom_classes": [],
            "_model_module": "@jupyter-widgets/controls",
            "_model_module_version": "1.5.0",
            "_model_name": "HTMLModel",
            "_view_count": null,
            "_view_module": "@jupyter-widgets/controls",
            "_view_module_version": "1.5.0",
            "_view_name": "HTMLView",
            "description": "",
            "description_tooltip": null,
            "layout": "IPY_MODEL_7dd6248a13ce43db936d903224ec43eb",
            "placeholder": "​",
            "style": "IPY_MODEL_1b09d59cc23d41af99d5d4b0dedd1f51",
            "value": "merges.txt: 100%"
          }
        },
        "5874a14c967c4f53aa35a78ead6ff86b": {
          "model_module": "@jupyter-widgets/controls",
          "model_name": "FloatProgressModel",
          "model_module_version": "1.5.0",
          "state": {
            "_dom_classes": [],
            "_model_module": "@jupyter-widgets/controls",
            "_model_module_version": "1.5.0",
            "_model_name": "FloatProgressModel",
            "_view_count": null,
            "_view_module": "@jupyter-widgets/controls",
            "_view_module_version": "1.5.0",
            "_view_name": "ProgressView",
            "bar_style": "success",
            "description": "",
            "description_tooltip": null,
            "layout": "IPY_MODEL_341f7138c5a045439764e7b90a28cc80",
            "max": 456318,
            "min": 0,
            "orientation": "horizontal",
            "style": "IPY_MODEL_31cf43fc3963485580462e42e23eb49e",
            "value": 456318
          }
        },
        "e7d493c8a175447589f3daefc766e20f": {
          "model_module": "@jupyter-widgets/controls",
          "model_name": "HTMLModel",
          "model_module_version": "1.5.0",
          "state": {
            "_dom_classes": [],
            "_model_module": "@jupyter-widgets/controls",
            "_model_module_version": "1.5.0",
            "_model_name": "HTMLModel",
            "_view_count": null,
            "_view_module": "@jupyter-widgets/controls",
            "_view_module_version": "1.5.0",
            "_view_name": "HTMLView",
            "description": "",
            "description_tooltip": null,
            "layout": "IPY_MODEL_91a5b392b71b4bbc9b0b3a681992bf28",
            "placeholder": "​",
            "style": "IPY_MODEL_5fb46265357545908e86b800e5ff4551",
            "value": " 456k/456k [00:00&lt;00:00, 2.44MB/s]"
          }
        },
        "e5371e12a6584dec8d4d447d1103072f": {
          "model_module": "@jupyter-widgets/base",
          "model_name": "LayoutModel",
          "model_module_version": "1.2.0",
          "state": {
            "_model_module": "@jupyter-widgets/base",
            "_model_module_version": "1.2.0",
            "_model_name": "LayoutModel",
            "_view_count": null,
            "_view_module": "@jupyter-widgets/base",
            "_view_module_version": "1.2.0",
            "_view_name": "LayoutView",
            "align_content": null,
            "align_items": null,
            "align_self": null,
            "border": null,
            "bottom": null,
            "display": null,
            "flex": null,
            "flex_flow": null,
            "grid_area": null,
            "grid_auto_columns": null,
            "grid_auto_flow": null,
            "grid_auto_rows": null,
            "grid_column": null,
            "grid_gap": null,
            "grid_row": null,
            "grid_template_areas": null,
            "grid_template_columns": null,
            "grid_template_rows": null,
            "height": null,
            "justify_content": null,
            "justify_items": null,
            "left": null,
            "margin": null,
            "max_height": null,
            "max_width": null,
            "min_height": null,
            "min_width": null,
            "object_fit": null,
            "object_position": null,
            "order": null,
            "overflow": null,
            "overflow_x": null,
            "overflow_y": null,
            "padding": null,
            "right": null,
            "top": null,
            "visibility": null,
            "width": null
          }
        },
        "7dd6248a13ce43db936d903224ec43eb": {
          "model_module": "@jupyter-widgets/base",
          "model_name": "LayoutModel",
          "model_module_version": "1.2.0",
          "state": {
            "_model_module": "@jupyter-widgets/base",
            "_model_module_version": "1.2.0",
            "_model_name": "LayoutModel",
            "_view_count": null,
            "_view_module": "@jupyter-widgets/base",
            "_view_module_version": "1.2.0",
            "_view_name": "LayoutView",
            "align_content": null,
            "align_items": null,
            "align_self": null,
            "border": null,
            "bottom": null,
            "display": null,
            "flex": null,
            "flex_flow": null,
            "grid_area": null,
            "grid_auto_columns": null,
            "grid_auto_flow": null,
            "grid_auto_rows": null,
            "grid_column": null,
            "grid_gap": null,
            "grid_row": null,
            "grid_template_areas": null,
            "grid_template_columns": null,
            "grid_template_rows": null,
            "height": null,
            "justify_content": null,
            "justify_items": null,
            "left": null,
            "margin": null,
            "max_height": null,
            "max_width": null,
            "min_height": null,
            "min_width": null,
            "object_fit": null,
            "object_position": null,
            "order": null,
            "overflow": null,
            "overflow_x": null,
            "overflow_y": null,
            "padding": null,
            "right": null,
            "top": null,
            "visibility": null,
            "width": null
          }
        },
        "1b09d59cc23d41af99d5d4b0dedd1f51": {
          "model_module": "@jupyter-widgets/controls",
          "model_name": "DescriptionStyleModel",
          "model_module_version": "1.5.0",
          "state": {
            "_model_module": "@jupyter-widgets/controls",
            "_model_module_version": "1.5.0",
            "_model_name": "DescriptionStyleModel",
            "_view_count": null,
            "_view_module": "@jupyter-widgets/base",
            "_view_module_version": "1.2.0",
            "_view_name": "StyleView",
            "description_width": ""
          }
        },
        "341f7138c5a045439764e7b90a28cc80": {
          "model_module": "@jupyter-widgets/base",
          "model_name": "LayoutModel",
          "model_module_version": "1.2.0",
          "state": {
            "_model_module": "@jupyter-widgets/base",
            "_model_module_version": "1.2.0",
            "_model_name": "LayoutModel",
            "_view_count": null,
            "_view_module": "@jupyter-widgets/base",
            "_view_module_version": "1.2.0",
            "_view_name": "LayoutView",
            "align_content": null,
            "align_items": null,
            "align_self": null,
            "border": null,
            "bottom": null,
            "display": null,
            "flex": null,
            "flex_flow": null,
            "grid_area": null,
            "grid_auto_columns": null,
            "grid_auto_flow": null,
            "grid_auto_rows": null,
            "grid_column": null,
            "grid_gap": null,
            "grid_row": null,
            "grid_template_areas": null,
            "grid_template_columns": null,
            "grid_template_rows": null,
            "height": null,
            "justify_content": null,
            "justify_items": null,
            "left": null,
            "margin": null,
            "max_height": null,
            "max_width": null,
            "min_height": null,
            "min_width": null,
            "object_fit": null,
            "object_position": null,
            "order": null,
            "overflow": null,
            "overflow_x": null,
            "overflow_y": null,
            "padding": null,
            "right": null,
            "top": null,
            "visibility": null,
            "width": null
          }
        },
        "31cf43fc3963485580462e42e23eb49e": {
          "model_module": "@jupyter-widgets/controls",
          "model_name": "ProgressStyleModel",
          "model_module_version": "1.5.0",
          "state": {
            "_model_module": "@jupyter-widgets/controls",
            "_model_module_version": "1.5.0",
            "_model_name": "ProgressStyleModel",
            "_view_count": null,
            "_view_module": "@jupyter-widgets/base",
            "_view_module_version": "1.2.0",
            "_view_name": "StyleView",
            "bar_color": null,
            "description_width": ""
          }
        },
        "91a5b392b71b4bbc9b0b3a681992bf28": {
          "model_module": "@jupyter-widgets/base",
          "model_name": "LayoutModel",
          "model_module_version": "1.2.0",
          "state": {
            "_model_module": "@jupyter-widgets/base",
            "_model_module_version": "1.2.0",
            "_model_name": "LayoutModel",
            "_view_count": null,
            "_view_module": "@jupyter-widgets/base",
            "_view_module_version": "1.2.0",
            "_view_name": "LayoutView",
            "align_content": null,
            "align_items": null,
            "align_self": null,
            "border": null,
            "bottom": null,
            "display": null,
            "flex": null,
            "flex_flow": null,
            "grid_area": null,
            "grid_auto_columns": null,
            "grid_auto_flow": null,
            "grid_auto_rows": null,
            "grid_column": null,
            "grid_gap": null,
            "grid_row": null,
            "grid_template_areas": null,
            "grid_template_columns": null,
            "grid_template_rows": null,
            "height": null,
            "justify_content": null,
            "justify_items": null,
            "left": null,
            "margin": null,
            "max_height": null,
            "max_width": null,
            "min_height": null,
            "min_width": null,
            "object_fit": null,
            "object_position": null,
            "order": null,
            "overflow": null,
            "overflow_x": null,
            "overflow_y": null,
            "padding": null,
            "right": null,
            "top": null,
            "visibility": null,
            "width": null
          }
        },
        "5fb46265357545908e86b800e5ff4551": {
          "model_module": "@jupyter-widgets/controls",
          "model_name": "DescriptionStyleModel",
          "model_module_version": "1.5.0",
          "state": {
            "_model_module": "@jupyter-widgets/controls",
            "_model_module_version": "1.5.0",
            "_model_name": "DescriptionStyleModel",
            "_view_count": null,
            "_view_module": "@jupyter-widgets/base",
            "_view_module_version": "1.2.0",
            "_view_name": "StyleView",
            "description_width": ""
          }
        },
        "0c3852143c0d44408f1aefdcce8e0f1d": {
          "model_module": "@jupyter-widgets/controls",
          "model_name": "HBoxModel",
          "model_module_version": "1.5.0",
          "state": {
            "_dom_classes": [],
            "_model_module": "@jupyter-widgets/controls",
            "_model_module_version": "1.5.0",
            "_model_name": "HBoxModel",
            "_view_count": null,
            "_view_module": "@jupyter-widgets/controls",
            "_view_module_version": "1.5.0",
            "_view_name": "HBoxView",
            "box_style": "",
            "children": [
              "IPY_MODEL_033e9f5b38e045c59a5d3e8e9f18d648",
              "IPY_MODEL_5d338365a8d541f5a2f8b8fdd681ee13",
              "IPY_MODEL_1ea0c08f28364b90a8c9001848e07132"
            ],
            "layout": "IPY_MODEL_e0ac93f000f14d31b39b851aba341ead"
          }
        },
        "033e9f5b38e045c59a5d3e8e9f18d648": {
          "model_module": "@jupyter-widgets/controls",
          "model_name": "HTMLModel",
          "model_module_version": "1.5.0",
          "state": {
            "_dom_classes": [],
            "_model_module": "@jupyter-widgets/controls",
            "_model_module_version": "1.5.0",
            "_model_name": "HTMLModel",
            "_view_count": null,
            "_view_module": "@jupyter-widgets/controls",
            "_view_module_version": "1.5.0",
            "_view_name": "HTMLView",
            "description": "",
            "description_tooltip": null,
            "layout": "IPY_MODEL_6e2018f0bb6840debb344feaf441d085",
            "placeholder": "​",
            "style": "IPY_MODEL_779ba4349ce74c52a933298680b4fba4",
            "value": "tokenizer.json: 100%"
          }
        },
        "5d338365a8d541f5a2f8b8fdd681ee13": {
          "model_module": "@jupyter-widgets/controls",
          "model_name": "FloatProgressModel",
          "model_module_version": "1.5.0",
          "state": {
            "_dom_classes": [],
            "_model_module": "@jupyter-widgets/controls",
            "_model_module_version": "1.5.0",
            "_model_name": "FloatProgressModel",
            "_view_count": null,
            "_view_module": "@jupyter-widgets/controls",
            "_view_module_version": "1.5.0",
            "_view_name": "ProgressView",
            "bar_style": "success",
            "description": "",
            "description_tooltip": null,
            "layout": "IPY_MODEL_b74fdcfe94f84d36ba68ba8f116c9656",
            "max": 1355256,
            "min": 0,
            "orientation": "horizontal",
            "style": "IPY_MODEL_72f04ee0bbb94869998a45f9b62fc5f1",
            "value": 1355256
          }
        },
        "1ea0c08f28364b90a8c9001848e07132": {
          "model_module": "@jupyter-widgets/controls",
          "model_name": "HTMLModel",
          "model_module_version": "1.5.0",
          "state": {
            "_dom_classes": [],
            "_model_module": "@jupyter-widgets/controls",
            "_model_module_version": "1.5.0",
            "_model_name": "HTMLModel",
            "_view_count": null,
            "_view_module": "@jupyter-widgets/controls",
            "_view_module_version": "1.5.0",
            "_view_name": "HTMLView",
            "description": "",
            "description_tooltip": null,
            "layout": "IPY_MODEL_bf0ceab6aeaf402c93a6b1b6d6c1214e",
            "placeholder": "​",
            "style": "IPY_MODEL_ce9b2615eefa4f0b8b6229b59292cfda",
            "value": " 1.36M/1.36M [00:03&lt;00:00, 412kB/s]"
          }
        },
        "e0ac93f000f14d31b39b851aba341ead": {
          "model_module": "@jupyter-widgets/base",
          "model_name": "LayoutModel",
          "model_module_version": "1.2.0",
          "state": {
            "_model_module": "@jupyter-widgets/base",
            "_model_module_version": "1.2.0",
            "_model_name": "LayoutModel",
            "_view_count": null,
            "_view_module": "@jupyter-widgets/base",
            "_view_module_version": "1.2.0",
            "_view_name": "LayoutView",
            "align_content": null,
            "align_items": null,
            "align_self": null,
            "border": null,
            "bottom": null,
            "display": null,
            "flex": null,
            "flex_flow": null,
            "grid_area": null,
            "grid_auto_columns": null,
            "grid_auto_flow": null,
            "grid_auto_rows": null,
            "grid_column": null,
            "grid_gap": null,
            "grid_row": null,
            "grid_template_areas": null,
            "grid_template_columns": null,
            "grid_template_rows": null,
            "height": null,
            "justify_content": null,
            "justify_items": null,
            "left": null,
            "margin": null,
            "max_height": null,
            "max_width": null,
            "min_height": null,
            "min_width": null,
            "object_fit": null,
            "object_position": null,
            "order": null,
            "overflow": null,
            "overflow_x": null,
            "overflow_y": null,
            "padding": null,
            "right": null,
            "top": null,
            "visibility": null,
            "width": null
          }
        },
        "6e2018f0bb6840debb344feaf441d085": {
          "model_module": "@jupyter-widgets/base",
          "model_name": "LayoutModel",
          "model_module_version": "1.2.0",
          "state": {
            "_model_module": "@jupyter-widgets/base",
            "_model_module_version": "1.2.0",
            "_model_name": "LayoutModel",
            "_view_count": null,
            "_view_module": "@jupyter-widgets/base",
            "_view_module_version": "1.2.0",
            "_view_name": "LayoutView",
            "align_content": null,
            "align_items": null,
            "align_self": null,
            "border": null,
            "bottom": null,
            "display": null,
            "flex": null,
            "flex_flow": null,
            "grid_area": null,
            "grid_auto_columns": null,
            "grid_auto_flow": null,
            "grid_auto_rows": null,
            "grid_column": null,
            "grid_gap": null,
            "grid_row": null,
            "grid_template_areas": null,
            "grid_template_columns": null,
            "grid_template_rows": null,
            "height": null,
            "justify_content": null,
            "justify_items": null,
            "left": null,
            "margin": null,
            "max_height": null,
            "max_width": null,
            "min_height": null,
            "min_width": null,
            "object_fit": null,
            "object_position": null,
            "order": null,
            "overflow": null,
            "overflow_x": null,
            "overflow_y": null,
            "padding": null,
            "right": null,
            "top": null,
            "visibility": null,
            "width": null
          }
        },
        "779ba4349ce74c52a933298680b4fba4": {
          "model_module": "@jupyter-widgets/controls",
          "model_name": "DescriptionStyleModel",
          "model_module_version": "1.5.0",
          "state": {
            "_model_module": "@jupyter-widgets/controls",
            "_model_module_version": "1.5.0",
            "_model_name": "DescriptionStyleModel",
            "_view_count": null,
            "_view_module": "@jupyter-widgets/base",
            "_view_module_version": "1.2.0",
            "_view_name": "StyleView",
            "description_width": ""
          }
        },
        "b74fdcfe94f84d36ba68ba8f116c9656": {
          "model_module": "@jupyter-widgets/base",
          "model_name": "LayoutModel",
          "model_module_version": "1.2.0",
          "state": {
            "_model_module": "@jupyter-widgets/base",
            "_model_module_version": "1.2.0",
            "_model_name": "LayoutModel",
            "_view_count": null,
            "_view_module": "@jupyter-widgets/base",
            "_view_module_version": "1.2.0",
            "_view_name": "LayoutView",
            "align_content": null,
            "align_items": null,
            "align_self": null,
            "border": null,
            "bottom": null,
            "display": null,
            "flex": null,
            "flex_flow": null,
            "grid_area": null,
            "grid_auto_columns": null,
            "grid_auto_flow": null,
            "grid_auto_rows": null,
            "grid_column": null,
            "grid_gap": null,
            "grid_row": null,
            "grid_template_areas": null,
            "grid_template_columns": null,
            "grid_template_rows": null,
            "height": null,
            "justify_content": null,
            "justify_items": null,
            "left": null,
            "margin": null,
            "max_height": null,
            "max_width": null,
            "min_height": null,
            "min_width": null,
            "object_fit": null,
            "object_position": null,
            "order": null,
            "overflow": null,
            "overflow_x": null,
            "overflow_y": null,
            "padding": null,
            "right": null,
            "top": null,
            "visibility": null,
            "width": null
          }
        },
        "72f04ee0bbb94869998a45f9b62fc5f1": {
          "model_module": "@jupyter-widgets/controls",
          "model_name": "ProgressStyleModel",
          "model_module_version": "1.5.0",
          "state": {
            "_model_module": "@jupyter-widgets/controls",
            "_model_module_version": "1.5.0",
            "_model_name": "ProgressStyleModel",
            "_view_count": null,
            "_view_module": "@jupyter-widgets/base",
            "_view_module_version": "1.2.0",
            "_view_name": "StyleView",
            "bar_color": null,
            "description_width": ""
          }
        },
        "bf0ceab6aeaf402c93a6b1b6d6c1214e": {
          "model_module": "@jupyter-widgets/base",
          "model_name": "LayoutModel",
          "model_module_version": "1.2.0",
          "state": {
            "_model_module": "@jupyter-widgets/base",
            "_model_module_version": "1.2.0",
            "_model_name": "LayoutModel",
            "_view_count": null,
            "_view_module": "@jupyter-widgets/base",
            "_view_module_version": "1.2.0",
            "_view_name": "LayoutView",
            "align_content": null,
            "align_items": null,
            "align_self": null,
            "border": null,
            "bottom": null,
            "display": null,
            "flex": null,
            "flex_flow": null,
            "grid_area": null,
            "grid_auto_columns": null,
            "grid_auto_flow": null,
            "grid_auto_rows": null,
            "grid_column": null,
            "grid_gap": null,
            "grid_row": null,
            "grid_template_areas": null,
            "grid_template_columns": null,
            "grid_template_rows": null,
            "height": null,
            "justify_content": null,
            "justify_items": null,
            "left": null,
            "margin": null,
            "max_height": null,
            "max_width": null,
            "min_height": null,
            "min_width": null,
            "object_fit": null,
            "object_position": null,
            "order": null,
            "overflow": null,
            "overflow_x": null,
            "overflow_y": null,
            "padding": null,
            "right": null,
            "top": null,
            "visibility": null,
            "width": null
          }
        },
        "ce9b2615eefa4f0b8b6229b59292cfda": {
          "model_module": "@jupyter-widgets/controls",
          "model_name": "DescriptionStyleModel",
          "model_module_version": "1.5.0",
          "state": {
            "_model_module": "@jupyter-widgets/controls",
            "_model_module_version": "1.5.0",
            "_model_name": "DescriptionStyleModel",
            "_view_count": null,
            "_view_module": "@jupyter-widgets/base",
            "_view_module_version": "1.2.0",
            "_view_name": "StyleView",
            "description_width": ""
          }
        }
      }
    }
  },
  "nbformat": 4,
  "nbformat_minor": 0
}